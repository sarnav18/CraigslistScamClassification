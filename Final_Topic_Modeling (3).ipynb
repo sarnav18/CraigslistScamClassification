{
  "nbformat": 4,
  "nbformat_minor": 0,
  "metadata": {
    "colab": {
      "provenance": []
    },
    "kernelspec": {
      "name": "python3",
      "display_name": "Python 3"
    },
    "language_info": {
      "name": "python"
    }
  },
  "cells": [
    {
      "cell_type": "code",
      "execution_count": 1,
      "metadata": {
        "id": "hCqo-q3BTu_K"
      },
      "outputs": [],
      "source": [
        "## import packages\n",
        "import nltk\n",
        "import re\n",
        "import string\n",
        "import pandas as pd\n",
        "import numpy as np\n",
        "import gensim\n",
        "from gensim import corpora\n",
        "import matplotlib.pyplot as plt\n",
        "import json\n",
        "import matplotlib.pyplot as plt\n"
      ]
    },
    {
      "cell_type": "code",
      "source": [
        "#Downloading nltk dependencies for google colab \n",
        "nltk.download('punkt')\n",
        "nltk.download('stopwords')\n",
        "nltk.download('wordnet')\n",
        "nltk.download('omw-1.4')\n",
        "nltk.download('averaged_perceptron_tagger')"
      ],
      "metadata": {
        "colab": {
          "base_uri": "https://localhost:8080/"
        },
        "id": "YsBnpxl2UTFM",
        "outputId": "c192847d-fdbd-470e-f0c3-41cbd77a9a13"
      },
      "execution_count": 2,
      "outputs": [
        {
          "output_type": "stream",
          "name": "stderr",
          "text": [
            "[nltk_data] Downloading package punkt to /root/nltk_data...\n",
            "[nltk_data]   Unzipping tokenizers/punkt.zip.\n",
            "[nltk_data] Downloading package stopwords to /root/nltk_data...\n",
            "[nltk_data]   Unzipping corpora/stopwords.zip.\n",
            "[nltk_data] Downloading package wordnet to /root/nltk_data...\n",
            "[nltk_data] Downloading package omw-1.4 to /root/nltk_data...\n",
            "[nltk_data] Downloading package averaged_perceptron_tagger to\n",
            "[nltk_data]     /root/nltk_data...\n",
            "[nltk_data]   Unzipping taggers/averaged_perceptron_tagger.zip.\n"
          ]
        },
        {
          "output_type": "execute_result",
          "data": {
            "text/plain": [
              "True"
            ]
          },
          "metadata": {},
          "execution_count": 2
        }
      ]
    },
    {
      "cell_type": "code",
      "source": [
        "from nltk.corpus import stopwords\n",
        "## Importing and preprocessing data\n",
        "\n",
        "df = pd.read_csv('/content/Topic_data.csv')\n",
        "\n",
        "df_filt = df.loc[df['Predicted_Scams']==False]\n",
        "\n",
        "##Data Filtering\n",
        "print(df_filt.shape)\n",
        "df_filt['tokenized'] = df_filt['Clean_Description'].apply(lambda x: nltk.word_tokenize(x.lower()))\n",
        "lmtzr = nltk.stem.WordNetLemmatizer()\n",
        "\n",
        "stop = stopwords.words('english')  # Corpus\n",
        "\n",
        "df_filt['stopwords_removed'] = df_filt['tokenized'].apply(lambda x: [word for word in x if word not in stop if word.isalpha()])\n",
        "df_filt['QR_removed'] = df_filt['tokenized'].apply(lambda x: [word for word in x if word not in ('qr', 'code', 'link', 'to', 'this', 'post')]) #removing the noise from the data\n",
        "df_filt['joined'] = df_filt['QR_removed'].apply(lambda x: \" \".join(x))\n",
        "\n"
      ],
      "metadata": {
        "colab": {
          "base_uri": "https://localhost:8080/"
        },
        "id": "roleIkxOT9IL",
        "outputId": "7908b715-3b10-4394-dc01-ee0e48311064"
      },
      "execution_count": 3,
      "outputs": [
        {
          "output_type": "stream",
          "name": "stdout",
          "text": [
            "(486, 4)\n"
          ]
        },
        {
          "output_type": "stream",
          "name": "stderr",
          "text": [
            "<ipython-input-3-7792f7e03616>:10: SettingWithCopyWarning: \n",
            "A value is trying to be set on a copy of a slice from a DataFrame.\n",
            "Try using .loc[row_indexer,col_indexer] = value instead\n",
            "\n",
            "See the caveats in the documentation: https://pandas.pydata.org/pandas-docs/stable/user_guide/indexing.html#returning-a-view-versus-a-copy\n",
            "  df_filt['tokenized'] = df_filt['Clean_Description'].apply(lambda x: nltk.word_tokenize(x.lower()))\n",
            "<ipython-input-3-7792f7e03616>:15: SettingWithCopyWarning: \n",
            "A value is trying to be set on a copy of a slice from a DataFrame.\n",
            "Try using .loc[row_indexer,col_indexer] = value instead\n",
            "\n",
            "See the caveats in the documentation: https://pandas.pydata.org/pandas-docs/stable/user_guide/indexing.html#returning-a-view-versus-a-copy\n",
            "  df_filt['stopwords_removed'] = df_filt['tokenized'].apply(lambda x: [word for word in x if word not in stop if word.isalpha()])\n",
            "<ipython-input-3-7792f7e03616>:16: SettingWithCopyWarning: \n",
            "A value is trying to be set on a copy of a slice from a DataFrame.\n",
            "Try using .loc[row_indexer,col_indexer] = value instead\n",
            "\n",
            "See the caveats in the documentation: https://pandas.pydata.org/pandas-docs/stable/user_guide/indexing.html#returning-a-view-versus-a-copy\n",
            "  df_filt['QR_removed'] = df_filt['tokenized'].apply(lambda x: [word for word in x if word not in ('qr', 'code', 'link', 'to', 'this', 'post')])\n",
            "<ipython-input-3-7792f7e03616>:17: SettingWithCopyWarning: \n",
            "A value is trying to be set on a copy of a slice from a DataFrame.\n",
            "Try using .loc[row_indexer,col_indexer] = value instead\n",
            "\n",
            "See the caveats in the documentation: https://pandas.pydata.org/pandas-docs/stable/user_guide/indexing.html#returning-a-view-versus-a-copy\n",
            "  df_filt['joined'] = df_filt['QR_removed'].apply(lambda x: \" \".join(x))\n"
          ]
        }
      ]
    },
    {
      "cell_type": "code",
      "source": [
        "#Trigram\n",
        "trigram_measures = nltk.collocations.TrigramAssocMeasures()\n",
        "finder = nltk.collocations.TrigramCollocationFinder.from_documents([comment.split() for comment in df_filt.joined])\n",
        "# Filter only those that occur at least 50 times\n",
        "finder.apply_freq_filter(50)\n",
        "trigram_scores = finder.score_ngrams(trigram_measures.pmi)\n",
        "\n",
        "trigram_pmi = pd.DataFrame(trigram_scores)\n",
        "trigram_pmi.columns = ['trigram', 'pmi']\n",
        "trigram_pmi.sort_values(by='pmi', axis = 0, ascending = False, inplace = True)\n",
        "\n",
        "#processing the data for trigrams\n",
        "from nltk.corpus import stopwords\n",
        "\n",
        "stop_word_list = set(stopwords.words(\"english\"))\n",
        "\n",
        "\n",
        "# Filter for trigrams with only noun-type structures\n",
        "def trigram_filter(trigram):\n",
        "    tag = nltk.pos_tag(trigram)\n",
        "    if tag[0][1] not in ['JJ', 'NN'] and tag[1][1] not in ['JJ','NN']:\n",
        "        return False\n",
        "    if trigram[0] in stop_word_list or trigram[-1] in stop_word_list or trigram[1] in stop_word_list:\n",
        "        return False\n",
        "    if 'n' in trigram or 't' in trigram:\n",
        "         return False\n",
        "    if 'PRON' in trigram:\n",
        "        return False\n",
        "    return True\n",
        "\n",
        "\n",
        "\n",
        "filtered_trigram = trigram_pmi[trigram_pmi.apply(lambda trigram:trigram_filter(trigram['trigram']) and trigram.pmi > 5, axis = 1)][:500]\n",
        "\n",
        "\n",
        "\n",
        "trigrams = [' '.join(x) for x in filtered_trigram.trigram.values if len(x[0]) > 2 or len(x[1]) > 2 and len(x[2]) > 2]\n",
        "\n",
        "reviews_w_ngrams = df_filt['joined'].copy()\n",
        "reviews_w_ngrams = pd.DataFrame(reviews_w_ngrams)\n",
        "\n",
        "# Concatenate n-grams\n",
        "def replace_ngram(x):\n",
        "    for gram in trigrams:\n",
        "        x = x.replace(gram, '_'.join(gram.split()))\n",
        "    return x\n",
        "#Join\n",
        "reviews_w_ngrams.joined = reviews_w_ngrams.joined.map(lambda x: replace_ngram(x))\n",
        "\n",
        "# tokenize reviews + remove stop words + remove names + remove words with less than 2 characters\n",
        "reviews_w_ngrams = reviews_w_ngrams.joined.map(lambda x: [word for word in x.split()\\\n",
        "                                                 if word not in stop_word_list\\\n",
        "                                                              and word not in stop\\\n",
        "                                                              and len(word) > 2])\n"
      ],
      "metadata": {
        "id": "U8Uk2KUhULw_"
      },
      "execution_count": 4,
      "outputs": []
    },
    {
      "cell_type": "code",
      "source": [
        "##Filtering for nouns\n",
        "\n",
        "def noun_only(x):\n",
        "    pos_comment = nltk.pos_tag(x)\n",
        "    filtered = [word[0] for word in pos_comment if word[1] in ['NN']]\n",
        "    # to filter both noun and verbs\n",
        "    #filtered = [word[0] for word in pos_comment if word[1] in ['NN','VB', 'VBD', 'VBG', 'VBN', 'VBZ']]\n",
        "    return filtered\n",
        "\n",
        "final_reviews = reviews_w_ngrams.map(noun_only)"
      ],
      "metadata": {
        "id": "ApRLKUfaUEeW"
      },
      "execution_count": 5,
      "outputs": []
    },
    {
      "cell_type": "code",
      "source": [
        "##Document Matrix\n",
        "dictionary = corpora.Dictionary(final_reviews)\n",
        "\n",
        "doc_term_matrix = [dictionary.doc2bow(doc) for doc in final_reviews]\n",
        "\n",
        "\n",
        "#Finding the ideal number of topics\n",
        "coherence = []\n",
        "for k in range(5,25):\n",
        "    print('Round: '+str(k))\n",
        "    Lda = gensim.models.ldamodel.LdaModel\n",
        "    ldamodel = Lda(doc_term_matrix, num_topics=k, id2word = dictionary, passes=40,\\\n",
        "                   iterations=500, chunksize = 100, eval_every = None)\n",
        "\n",
        "    cm = gensim.models.coherencemodel.CoherenceModel(model=ldamodel, texts=final_reviews,\\\n",
        "                                                     dictionary=dictionary, coherence='c_v')\n",
        "    coherence.append((k,cm.get_coherence()))\n",
        "\n"
      ],
      "metadata": {
        "colab": {
          "base_uri": "https://localhost:8080/"
        },
        "id": "515YbUWsUCui",
        "outputId": "b5e23dff-33f0-4e74-8c91-8f16f1662976"
      },
      "execution_count": 6,
      "outputs": [
        {
          "output_type": "stream",
          "name": "stdout",
          "text": [
            "Round: 5\n",
            "Round: 6\n",
            "Round: 7\n",
            "Round: 8\n",
            "Round: 9\n",
            "Round: 10\n",
            "Round: 11\n",
            "Round: 12\n",
            "Round: 13\n",
            "Round: 14\n",
            "Round: 15\n",
            "Round: 16\n",
            "Round: 17\n",
            "Round: 18\n",
            "Round: 19\n",
            "Round: 20\n",
            "Round: 21\n",
            "Round: 22\n",
            "Round: 23\n",
            "Round: 24\n"
          ]
        }
      ]
    },
    {
      "cell_type": "code",
      "source": [
        "##Plotting Coherence\n",
        "\n",
        "x_val = [x[0] for x in coherence]\n",
        "y_val = [x[1] for x in coherence]\n",
        "\n",
        "plt.plot(x_val,y_val)\n",
        "plt.scatter(x_val,y_val)\n",
        "plt.title('Number of Topics vs. Coherence')\n",
        "plt.xlabel('Number of Topics')\n",
        "plt.ylabel('Coherence')\n",
        "plt.xticks(x_val)\n",
        "plt.show()\n",
        "\n"
      ],
      "metadata": {
        "colab": {
          "base_uri": "https://localhost:8080/",
          "height": 295
        },
        "id": "eU4ZyyNLUAKU",
        "outputId": "460fc4f9-61a6-41ea-ba88-6568438c26ab"
      },
      "execution_count": 7,
      "outputs": [
        {
          "output_type": "display_data",
          "data": {
            "text/plain": [
              "<Figure size 432x288 with 1 Axes>"
            ],
            "image/png": "[encoded data removed]"
          },
          "metadata": {
            "needs_background": "light"
          }
        }
      ]
    },
    {
      "cell_type": "code",
      "source": [
        "##Hyper Parameter Tuning\n",
        "ldamodel3 = gensim.models.ldamodel.LdaModel\n",
        "ldamodel3 = ldamodel3(doc_term_matrix, num_topics=8, id2word = dictionary, passes=60,\\\n",
        "               iterations=250,  chunksize = 250, eval_every = None, random_state=15000)\n"
      ],
      "metadata": {
        "id": "Yhe4TDMKT-rO"
      },
      "execution_count": 15,
      "outputs": []
    },
    {
      "cell_type": "code",
      "source": [
        "#Model 2\n",
        "Lda = gensim.models.ldamodel.LdaModel\n",
        "ldamodel = Lda(doc_term_matrix, num_topics=9, id2word = dictionary, passes=40,\\\n",
        "               iterations=250,  chunksize = 500, eval_every = None, random_state=0)"
      ],
      "metadata": {
        "id": "mu4Y-vsseba5"
      },
      "execution_count": 9,
      "outputs": []
    },
    {
      "cell_type": "code",
      "source": [
        "pip install pyLDAvis"
      ],
      "metadata": {
        "colab": {
          "base_uri": "https://localhost:8080/"
        },
        "id": "AMKFiepaWlSh",
        "outputId": "2fb956d8-c595-4a57-b70c-ffac43aa56f8"
      },
      "execution_count": 10,
      "outputs": [
        {
          "output_type": "stream",
          "name": "stdout",
          "text": [
            "Looking in indexes: https://pypi.org/simple, https://us-python.pkg.dev/colab-wheels/public/simple/\n",
            "Collecting pyLDAvis\n",
            "  Downloading pyLDAvis-3.3.1.tar.gz (1.7 MB)\n",
            "\u001b[K     |████████████████████████████████| 1.7 MB 5.4 MB/s \n",
            "\u001b[?25h  Installing build dependencies ... \u001b[?25l\u001b[?25hdone\n",
            "  Getting requirements to build wheel ... \u001b[?25l\u001b[?25hdone\n",
            "  Installing backend dependencies ... \u001b[?25l\u001b[?25hdone\n",
            "    Preparing wheel metadata ... \u001b[?25l\u001b[?25hdone\n",
            "Requirement already satisfied: jinja2 in /usr/local/lib/python3.8/dist-packages (from pyLDAvis) (2.11.3)\n",
            "Requirement already satisfied: numexpr in /usr/local/lib/python3.8/dist-packages (from pyLDAvis) (2.8.4)\n",
            "Requirement already satisfied: future in /usr/local/lib/python3.8/dist-packages (from pyLDAvis) (0.16.0)\n",
            "Collecting sklearn\n",
            "  Downloading sklearn-0.0.post1.tar.gz (3.6 kB)\n",
            "Requirement already satisfied: gensim in /usr/local/lib/python3.8/dist-packages (from pyLDAvis) (3.6.0)\n",
            "Requirement already satisfied: scipy in /usr/local/lib/python3.8/dist-packages (from pyLDAvis) (1.7.3)\n",
            "Collecting funcy\n",
            "  Downloading funcy-1.17-py2.py3-none-any.whl (33 kB)\n",
            "Requirement already satisfied: joblib in /usr/local/lib/python3.8/dist-packages (from pyLDAvis) (1.2.0)\n",
            "Requirement already satisfied: setuptools in /usr/local/lib/python3.8/dist-packages (from pyLDAvis) (57.4.0)\n",
            "Requirement already satisfied: numpy>=1.20.0 in /usr/local/lib/python3.8/dist-packages (from pyLDAvis) (1.21.6)\n",
            "Requirement already satisfied: pandas>=1.2.0 in /usr/local/lib/python3.8/dist-packages (from pyLDAvis) (1.3.5)\n",
            "Requirement already satisfied: scikit-learn in /usr/local/lib/python3.8/dist-packages (from pyLDAvis) (1.0.2)\n",
            "Requirement already satisfied: python-dateutil>=2.7.3 in /usr/local/lib/python3.8/dist-packages (from pandas>=1.2.0->pyLDAvis) (2.8.2)\n",
            "Requirement already satisfied: pytz>=2017.3 in /usr/local/lib/python3.8/dist-packages (from pandas>=1.2.0->pyLDAvis) (2022.6)\n",
            "Requirement already satisfied: six>=1.5 in /usr/local/lib/python3.8/dist-packages (from python-dateutil>=2.7.3->pandas>=1.2.0->pyLDAvis) (1.15.0)\n",
            "Requirement already satisfied: smart-open>=1.2.1 in /usr/local/lib/python3.8/dist-packages (from gensim->pyLDAvis) (5.2.1)\n",
            "Requirement already satisfied: MarkupSafe>=0.23 in /usr/local/lib/python3.8/dist-packages (from jinja2->pyLDAvis) (2.0.1)\n",
            "Requirement already satisfied: threadpoolctl>=2.0.0 in /usr/local/lib/python3.8/dist-packages (from scikit-learn->pyLDAvis) (3.1.0)\n",
            "Building wheels for collected packages: pyLDAvis, sklearn\n",
            "  Building wheel for pyLDAvis (PEP 517) ... \u001b[?25l\u001b[?25hdone\n",
            "  Created wheel for pyLDAvis: filename=pyLDAvis-3.3.1-py2.py3-none-any.whl size=136898 sha256=c26676c2e6d3593337e13f3c5bf3aeb1ac687181797b4ab07951fc587a641f27\n",
            "  Stored in directory: /root/.cache/pip/wheels/90/61/ec/9dbe9efc3acf9c4e37ba70fbbcc3f3a0ebd121060aa593181a\n",
            "  Building wheel for sklearn (setup.py) ... \u001b[?25l\u001b[?25hdone\n",
            "  Created wheel for sklearn: filename=sklearn-0.0.post1-py3-none-any.whl size=2344 sha256=f4369c00938a9a990cabb986f3ebf55213abcd1809751d96e120a508da3d5246\n",
            "  Stored in directory: /root/.cache/pip/wheels/14/25/f7/1cc0956978ae479e75140219088deb7a36f60459df242b1a72\n",
            "Successfully built pyLDAvis sklearn\n",
            "Installing collected packages: sklearn, funcy, pyLDAvis\n",
            "Successfully installed funcy-1.17 pyLDAvis-3.3.1 sklearn-0.0.post1\n"
          ]
        }
      ]
    },
    {
      "cell_type": "code",
      "source": [
        "#Visulaizing the Topics using pyLDAvis\n",
        "import pyLDAvis\n",
        "import pyLDAvis.gensim_models as gensimvis\n",
        "\n",
        "topic_data =  gensimvis.prepare(ldamodel3, doc_term_matrix, dictionary, mds = 'pcoa')\n",
        "pyLDAvis.display(topic_data)"
      ],
      "metadata": {
        "colab": {
          "base_uri": "https://localhost:8080/",
          "height": 897
        },
        "id": "c9kGcQKkWkF5",
        "outputId": "ac29d192-7746-4696-f399-9d6b7fcaf774"
      },
      "execution_count": 16,
      "outputs": [
        {
          "output_type": "stream",
          "name": "stderr",
          "text": [
            "/usr/local/lib/python3.8/dist-packages/pyLDAvis/_prepare.py:246: FutureWarning: In a future version of pandas all arguments of DataFrame.drop except for the argument 'labels' will be keyword-only\n",
            "  default_term_info = default_term_info.sort_values(\n"
          ]
        },
        {
          "output_type": "execute_result",
          "data": {
            "text/plain": [
              "<IPython.core.display.HTML object>"
            ],
            "text/html": [
              "\n",
              "<link rel=\"stylesheet\" type=\"text/css\" href=\"https://cdn.jsdelivr.net/gh/bmabey/pyLDAvis@3.3.1/pyLDAvis/js/ldavis.v1.0.0.css\">\n",
              "\n",
              "\n",
              "<div id=\"ldavis_el721399355398350562009197991\"></div>\n",
              "<script type=\"text/javascript\">\n",
              "\n",
              "var ldavis_el721399355398350562009197991_data = {\"mdsDat\": {\"x\": [0.29195301949019176, 0.008689609915099112, -0.19320110511096641, -0.16507883760495884, 0.23110310784120985, -0.1338363322971783, -0.052556999356319946, 0.012927537122922576], \"y\": [0.1315414947039842, 0.20006560912716015, -0.09068138600577749, -0.01537230874709116, -0.27811313402337173, -0.1047043882803793, 0.18284156108571095, -0.025577447860236482], \"topics\": [1, 2, 3, 4, 5, 6, 7, 8], \"cluster\": [1, 1, 1, 1, 1, 1, 1, 1], \"Freq\": [39.150289300431155, 18.345785318627268, 15.716574162271154, 9.440609423497005, 7.35991977603739, 4.871627479789693, 4.423586722193008, 0.6916078171533278]}, \"tinfo\": {\"Term\": [\"chicago\", \"vehicle\", \"park\", \"truck\", \"car\", \"credit\", \"foot\", \"sale\", \"gasoline\", \"michigan_mi_*\", \"van\", \"ohio_oh_*\", \"park_il_*\", \"price\", \"indiana\", \"income\", \"oak\", \"please\", \"power\", \"payment\", \"wisconsin_wi_*\", \"illinois_il_*\", \"auto\", \"number\", \"call\", \"today\", \"box\", \"suv\", \"bus\", \"city\", \"michigan_mi_*\", \"ohio_oh_*\", \"park_il_*\", \"indiana\", \"wisconsin_wi_*\", \"illinois_il_*\", \"valley_il_*\", \"appleton\", \"missouri_mo_*\", \"barrington_il_*\", \"berwyn_il_*\", \"broadview_il_*\", \"burr_ridge_il\", \"center_il_*\", \"dundee_il_*\", \"evergreen_park_il\", \"hickory_hills_il\", \"indian_head_park_il_*\", \"merrionette_park_il\", \"mount_greenwood_il\", \"oak_lawn_il\", \"palos_park_il\", \"tinley_park_il\", \"worth_il_*\", \"car_dealers_*\", \"mattoon\", \"springfield\", \"city_iowa_ia\", \"iowa_ia_*\", \"south_dakota_sd\", \"sale\", \"truck\", \"bloomington\", \"car\", \"west\", \"choice\", \"van\", \"city\", \"grove\", \"saint\", \"ridge\", \"evanston\", \"buffalo\", \"skokie\", \"sportwagen\", \"sierra\", \"bedford\", \"glenview\", \"sle\", \"harbor\", \"troy\", \"elk_grove_village\", \"orland\", \"glencoe\", \"hoffman\", \"gls\", \"aim\", \"battle\", \"berrien\", \"bureau\", \"hartford\", \"lebanon\", \"leroy\", \"milford\", \"paw\", \"por\", \"preocupado\", \"w.a.c\", \"palatine\", \"rav4\", \"park\", \"center\", \"union\", \"gasoline\", \"spring\", \"city\", \"pickup\", \"credit\", \"creek\", \"mount\", \"valley\", \"lake\", \"call\", \"job\", \"today\", \"car\", \"sedan\", \"oak\", \"ram\", \"villa\", \"drive\", \"inventory\", \"chicago\", \"carvana\", \"experience\", \"budget\", \"email\", \"head\", \"bogus\", \"http\", \"autocheck\", \"telephone\", \"base\", \"everything\", \"type\", \"staff\", \"bar\", \"mind\", \"consent\", \"shop\", \"care\", \"safety\", \"effort\", \"browse\", \"question\", \"highway\", \"pacifica\", \"brake\", \"damage\", \"company\", \"frame\", \"handle\", \"take\", \"toyota\", \"volkswagen\", \"group\", \"visit\", \"jetta\", \"system\", \"dohc\", \"power\", \"control\", \"seat\", \"stock\", \"cab\", \"text\", \"equipment\", \"sport\", \"ride\", \"auto\", \"information\", \"color\", \"number\", \"phone\", \"purchase\", \"door\", \"call\", \"car\", \"credit\", \"vehicle\", \"wheel\", \"price\", \"service\", \"engine\", \"bmw\", \"quality\", \"inc.\", \"f150\", \"reserve\", \"pay\", \"subaru\", \"vvt\", \"audi\", \"rogue\", \"store\", \"home\", \"glc\", \"explorer\", \"commander\", \"conway\", \"murano\", \"cherokee\", \"forester\", \"student\", \"deal\", \"ask\", \"policy\", \"nation\", \"country\", \"multi\", \"displacement\", \"input\", \"cabriolet\", \"www.mycarcastle.com\", \"exchange\", \"attitude\", \"town\", \"cylinder\", \"equinox\", \"notice\", \"address\", \"suv\", \"challenger\", \"https\", \"chevrolet\", \"gasoline\", \"credit\", \"fuel\", \"today\", \"drive\", \"jeep\", \"call\", \"dodge\", \"power\", \"hyundai\", \"ford\", \"ram\", \"auto\", \"model\", \"vehicle\", \"engine\", \"sedan\", \"vin\", \"payment\", \"price\", \"car\", \"dealership\", \"day\", \"finance\", \"foot\", \"delivery\", \"fedex\", \"ft_box_truck\", \"cube\", \"econoline\", \"carpenter_,_roofer\", \"church\", \"columbus_,_ohio_,_oh\", \"missouri_,_mo\", \"texas\", \"virginia\", \"box\", \"contractor\", \"liquidation\", \"g3500\", \"conversion\", \"gate\", \"california\", \"box_truck_,\", \"cargo_van_,\", \"arizona\", \"cutaway\", \",_box_truck\", \",_eau_claire\", \",_new_york\", \"atlanta\", \"baltimore\", \"beach\", \"c4500\", \"savannah\", \"liftgate\", \"signature\", \"express\", \"miami\", \"bus\", \"sprinter\", \"package\", \"work\", \"kansas\", \"van\", \"utility\", \"truck\", \"sale\", \"indianapolis\", \"service\", \"city\", \"warranty\", \"retailer\", \"autonation\", \"consumer\", \"credit\\u2714\\ufe0f\", \"approach\", \"decision\", \"desire\", \"environment\", \"espanolcontact\", \"roadcrest\", \"stress\", \"understand\", \"someone\", \"verify\", \"confirm\", \"gasolinetransmission_:_automaticdrivetrain\", \"waste\", \"clearshowroom\", \"automobile\", \"highwayengine\", \"lbs.fuel\", \"automoxie.com\", \"purchaser\", \"ownership\", \"cyl\", \"show\", \"accuracy\", \"co-signer\\u2714\\ufe0f\", \"divorce\\u2714\\ufe0f\", \"existence\", \"list\", \"process\", \"vehicle\", \"history\", \"please\", \"dealership\", \"price_:_$\", \"plainfield\", \"price\", \"number\", \"financing\", \"stop\", \"phone\", \"pricing\", \"availability\", \"trade\", \"location\", \"car\", \"paste\", \"inventory\", \"credit\", \"chicago\", \"information\", \"customer\", \"service\", \"color\", \"time\", \"purchase\", \"bmw\", \"info\", \"schaumburg\", \"honda\", \"copy\", \"soul\", \"berwyn\", \"riverside\", \"aurora\", \"medinah\", \"repo\", \"bridgeview\", \"dissability\", \"everybody\", \"unemployment\", \"zeigler\", \"mini-van\", \"clearcoat\", \"accord\", \"ellyn\", \"eola\", \"glen\", \"ogden\", \"www.manejehoymismo.com\", \"civic\", \"bentley\", \"pearlcoat\", \"ave\", \"inc\", \"answer\", \"zero\", \"pilot\", \"chicago\", \"melrose\", \"income\", \"stream\", \"carol\", \"payment\", \"park\", \"see\", \"oak\", \"license\", \"hinsdale\", \"program\", \"money\", \"help\", \"finance\", \"bloomingdale\", \"credit\", \"get\", \"dale\", \"bensenville\", \"wood\", \"river\", \"loan\", \"today\", \"price\", \"vehicle\", \"engine\", \"lincoln\", \"mkc\", \"battery\", \"tractor\", \"loader\", \"rust\", \"daewoo\", \"genie\", \"hyster\", \"linde\", \"unit\", \"jet\", \"kubota\", \"something\", \"rocket\", \"filler\", \"navigator\", \"jlg\", \"learjet\", \"skidsteer\", \"yale\", \"shape\", \"track\", \"transmision\", \"eaton\", \"fuller\", \"issue\", \"mkx\", \"skid\", \"cat\", \"clark\", \"case\", \"mitsubishi\", \"forklift\", \"terrain\", \"factory\", \"bucket\", \"lift\", \"car\", \"truck\", \"espanol\", \"family\", \"mkz\", \"title\", \"heat\", \"wheel\", \"owner\"], \"Freq\": [715.0, 992.0, 779.0, 896.0, 1618.0, 865.0, 266.0, 1065.0, 542.0, 564.0, 428.0, 532.0, 510.0, 380.0, 489.0, 163.0, 200.0, 248.0, 300.0, 178.0, 445.0, 437.0, 455.0, 272.0, 493.0, 301.0, 141.0, 235.0, 145.0, 590.0, 563.2549164020911, 531.3115199553112, 509.6689305475073, 488.63795873096797, 444.6767833836904, 436.7149130435451, 185.41618649871407, 177.94808815239415, 172.46500124942511, 139.0944264600286, 139.0944264600286, 139.0944264600286, 139.0944264600286, 139.0944264600286, 139.0944264600286, 139.0944264600286, 139.0944264600286, 139.0944264600286, 139.0944264600286, 139.0944264600286, 139.0944264600286, 139.0944264600286, 139.0944264600286, 139.0944264600286, 133.49330855674754, 132.35590607561954, 131.21851242319977, 130.08111877078002, 130.08111877078002, 130.08111877078002, 807.3883339780202, 685.5098532494956, 181.24029579353103, 949.6107011338789, 182.4117594310061, 167.00799435056422, 236.83391224194816, 229.61075757673058, 167.82821080329495, 92.4899737346377, 76.97467630860072, 65.72826159488129, 56.351954999151715, 55.68760741723134, 54.44938700939697, 53.67560009688824, 46.18837446797772, 43.18116965430602, 42.46329596725004, 38.49325010392463, 38.49325010392463, 35.60640249002145, 35.18623621721483, 33.14063545324047, 33.14063545324047, 31.21648615822681, 30.918656698831256, 30.918656698831256, 30.918656698831256, 30.918656698831256, 30.918656698831256, 30.918656698831256, 30.918656698831256, 30.918656698831256, 30.918656698831256, 30.918656698831256, 30.918656698831256, 30.918656698831256, 76.62871348468204, 38.10874169942561, 430.96671387052066, 96.59347906817253, 106.43334622614816, 257.5774642667018, 51.472668659533, 224.2051416176193, 102.28500274703752, 217.10994154678883, 61.87709597819922, 62.897025196408066, 65.94878269412716, 92.72272003412131, 130.34276814543142, 65.5706123629832, 96.97894314822314, 193.36895847775222, 73.94468835526433, 68.80909479726054, 58.149990286907595, 56.4335390765419, 64.50385090562341, 62.4788447429294, 54.721998631889285, 132.89041713954884, 76.13467451459333, 73.63764027616212, 73.73017264474544, 68.04579029881174, 66.07812003202163, 58.89029934951654, 58.72070511138719, 57.186775892062535, 57.33965915585947, 56.25611461824522, 53.82782043223754, 53.268086081157534, 46.885121212257026, 46.40556409582127, 42.73346305250418, 42.06728174424508, 40.65734334698719, 40.17673005444305, 39.80545225440799, 38.20932914800273, 37.91560940763172, 37.885660789793164, 37.60181168855593, 37.03410285343607, 36.8776009459926, 36.69159344760167, 36.505536330198936, 36.02575238399494, 34.80175414504053, 129.2976320865997, 105.50139602487343, 96.40102116504656, 58.21371931406947, 51.62480364824815, 114.50574391999993, 74.32292135975044, 200.9364838871406, 84.5197700539815, 70.22876454624763, 175.30191305710528, 91.41946376758887, 182.9171270977801, 75.14808552604318, 82.52200231231743, 82.2234730720166, 211.57149680931792, 132.88707140046722, 104.83952093799584, 135.37556408043798, 110.2122391823613, 100.47550049615414, 82.3296506688459, 164.9875240123419, 293.1174506288783, 201.8031862547432, 199.30774691311993, 113.26168896763151, 129.60322849186738, 104.8584754005048, 95.33098008707313, 78.94913574839227, 78.19043270419523, 56.866853024611174, 43.93829179829238, 42.02635994682913, 40.9127443217058, 39.7049361360514, 38.591916612477405, 37.37495826804074, 37.242283094632, 37.06018684491532, 36.05214931991533, 34.87351178936437, 34.6824782742759, 33.05625789540807, 28.766440771774715, 27.9864610548791, 101.19513574581842, 22.45952883870519, 22.116195635630284, 21.964008781151403, 21.93519578697756, 21.603429082893825, 21.10716815627158, 20.10045057041654, 17.64573525980674, 16.637854211463452, 15.056971613290628, 15.011114372674063, 14.982657974962766, 14.440419522947039, 13.869694868142549, 29.150790019311955, 48.34576020735719, 26.749147971466808, 31.20782576148755, 61.322924999287686, 134.8275428201299, 55.65853389477164, 60.75592172129832, 114.25480950791307, 195.58345602569182, 261.21902245115, 64.18125321768167, 122.53689115109368, 109.95717280931291, 52.26340771546665, 150.73262217060264, 72.81209258803612, 98.4367184049609, 51.52270044600157, 85.55076566581481, 58.75609895425409, 98.8942348598106, 57.24655693793183, 126.53346250433486, 67.31532098132436, 66.22669052685451, 49.81587436405926, 58.634890219933595, 65.71878220174513, 81.23773251576903, 51.424467168539664, 52.560628205832415, 49.92869084013879, 265.3113716849365, 110.95114681281596, 103.43611953180002, 70.60630668610719, 69.24906595531432, 68.0034514664508, 67.13584855063444, 67.13584855063444, 67.13584855063444, 67.13584855063444, 67.13584855063444, 67.13584855063444, 138.97856158967343, 101.70111286676999, 41.62591954862728, 39.40204186004116, 38.913326850323855, 36.230695447954005, 35.74206010487778, 35.363125726571425, 35.363105809911154, 34.68475099998499, 34.495506213538164, 33.62789997827842, 33.62789997827842, 33.62789997827842, 33.62789997827842, 33.62789997827842, 33.62789997827842, 33.62789997827842, 67.13602780057687, 105.66316064992577, 42.76095342022566, 69.92722823752453, 67.13457388437712, 100.69002369147825, 37.855028551304294, 68.61172618777186, 76.05488088075836, 67.13593485616227, 135.49006559888235, 67.83744610309626, 162.15583142414042, 158.49969026496586, 67.14765913017483, 67.82125385829634, 68.02896470825729, 44.24587322112589, 39.75918447984604, 32.381579637504906, 27.604701369133075, 25.925930414537266, 25.004034119108315, 25.004034119108315, 25.004034119108315, 25.004034119108315, 25.004034119108315, 25.004034119108315, 25.004034119108315, 25.004034119108315, 22.82887115711489, 22.237255429988316, 21.315176768359464, 20.39302999405354, 19.30547048488814, 18.548628783468256, 18.548576051073102, 16.704229770066103, 15.78202696759033, 15.78181164364346, 13.937139080941455, 13.772039444678196, 13.770870543252325, 28.231709322139203, 13.015161489736643, 13.015161489736643, 13.015161489736643, 13.015161489736643, 26.448084394149795, 42.91277506205455, 466.3150663296692, 36.27772803359649, 114.19262570178677, 75.89421206061166, 29.414077283421737, 50.184862381696426, 90.85737194557608, 70.83397626689026, 67.08545001384373, 30.538716455111555, 49.184230028756055, 36.099723242211326, 40.404989334540744, 35.6292250380165, 37.79841385907582, 76.8015080741329, 34.40767251276973, 42.16591736078345, 56.223161063233114, 53.721786716096545, 40.54497187183814, 31.93847151822531, 38.628575561588384, 35.50103038821872, 33.86345881451859, 34.5836866562379, 32.32517794652352, 31.33634007263216, 61.733990045722585, 48.898457251766224, 37.678169076064606, 33.134558638771615, 24.361597432571333, 22.307007762512747, 17.721583820918404, 17.72156586493316, 15.007137629621333, 13.504531904347482, 13.504531904347482, 13.504531904347482, 13.504531904347482, 13.504531904347482, 12.903445322807677, 12.259593569748668, 22.015737740565854, 8.919092999432104, 8.919092999432104, 8.919092999432104, 8.919092999432104, 8.919092999432104, 7.7067003868626776, 7.706535790331288, 6.09415315661325, 5.907633364797384, 5.544437651297481, 5.177063181009756, 5.177063181009756, 5.069757714423251, 561.0199312480977, 56.74561384419199, 120.07833698218411, 54.09588102370886, 54.04321013366422, 97.96696965443569, 295.8159347405136, 20.160261990861272, 80.64286750328299, 33.30887733861521, 44.497525073210085, 33.39830413045124, 42.04614204615342, 52.32434351968452, 49.58814265471143, 27.257746223865606, 128.55029801754554, 42.0281182271889, 38.86711865356786, 38.86592956832291, 39.92435509398901, 41.697995443396195, 34.17105791134716, 41.60389011984976, 38.43026948371272, 41.79163391132632, 25.24809040932162, 29.423526978259435, 17.417396519698435, 10.579763579035362, 7.242027375286913, 5.588372857792019, 5.277219450840655, 2.8322838668586927, 2.8322838668586927, 2.8322838668586927, 2.8322838668586927, 2.641980089745234, 2.5207541207534185, 2.281065694360395, 1.9704207273766015, 1.9703692595271236, 1.9686971782718101, 1.8500960696033717, 1.7298470539725566, 1.7298470539725566, 1.7298470539725566, 1.7298470539725566, 5.886992439726872, 2.9530193316486653, 1.298952525486817, 1.298951901634096, 1.298951901634096, 1.2988130944036858, 1.2988016311099384, 1.2976711319979954, 1.1786307530324216, 2.7510158206065998, 3.3730759007581934, 2.3725657050518913, 1.7281345782535618, 2.176831757892145, 2.960415417581831, 3.4408893153776607, 5.668773124909277, 13.335898735070037, 10.521652945784755, 3.457794164483474, 2.9402524976408815, 3.1239063166754244, 3.3328963543393555, 2.5584981461496867, 2.7769247360338154, 2.4021405350305614], \"Total\": [715.0, 992.0, 779.0, 896.0, 1618.0, 865.0, 266.0, 1065.0, 542.0, 564.0, 428.0, 532.0, 510.0, 380.0, 489.0, 163.0, 200.0, 248.0, 300.0, 178.0, 445.0, 437.0, 455.0, 272.0, 493.0, 301.0, 141.0, 235.0, 145.0, 590.0, 564.0375927314107, 532.0941960943393, 510.45160918162594, 489.42063596676064, 445.4594594817661, 437.4975893262995, 186.19886518644512, 178.73076432767436, 173.2476662709055, 139.87710517700273, 139.87710517700273, 139.87710517700273, 139.87710517700273, 139.87710517700273, 139.87710517700273, 139.87710517700273, 139.87710517700273, 139.87710517700273, 139.87710517700273, 139.87710517700273, 139.87710517700273, 139.87710517700273, 139.87710517700273, 139.87710517700273, 134.27598477790315, 133.13858236487863, 132.00118878199385, 130.863795216295, 130.863795216295, 130.863795216295, 1065.5682138818827, 896.9155947142344, 197.4509022397128, 1618.4148413819153, 200.79941864999338, 195.63206529071434, 428.7317191074424, 590.2480254501039, 168.60723780578684, 93.26866223616199, 77.75411513396567, 66.50803264370118, 57.13088018053118, 56.46731449326805, 55.22892582781817, 54.454799712792045, 46.96837377039122, 43.9606714426237, 43.24198090081051, 39.27212534772485, 39.27212534772485, 36.38587741220395, 35.96565874624232, 33.91996005552651, 33.91996005552651, 31.995854849300255, 31.697345239346312, 31.697345239346312, 31.697345239346312, 31.697345239346312, 31.697345239346312, 31.697345239346312, 31.697345239346312, 31.697345239346312, 31.697345239346312, 31.697345239346312, 31.697345239346312, 31.697345239346312, 83.06109667336916, 39.932457582110594, 779.9044325097648, 127.20405794366546, 156.2806969624484, 542.149903411218, 63.54439315361908, 590.2480254501039, 210.14415563223693, 865.2312326173119, 108.8098933381578, 113.19303048038626, 126.91600946588702, 243.2487693042438, 493.2837091045074, 128.40998463898575, 301.06216297414795, 1618.4148413819153, 238.84524585260104, 200.20213986124548, 126.73408277369079, 126.18734871174681, 276.60570479172713, 246.13427962966398, 715.8589478704166, 133.68437938875635, 76.92874028405525, 74.43167330722653, 74.52928045104446, 68.84030359437445, 66.87207904766859, 59.68456719015741, 59.51781055102615, 57.98075956811759, 58.13739078789514, 57.050389692411166, 54.622055890423674, 54.063721899872405, 47.67934347841299, 47.19952921773246, 43.527435367682166, 42.86155870783817, 41.451459566609586, 40.971587824094165, 40.59956061211031, 39.00340841196009, 38.70964894162658, 38.68023368084743, 38.39622851773341, 37.82834712111214, 37.671672754375535, 37.485616293097195, 37.299563262692914, 36.81975538739758, 35.595722402073214, 134.59442357305585, 111.35598317428433, 102.22106284754608, 61.367957142742355, 54.10558797462067, 129.97272266209671, 82.89203463595778, 300.05304662207556, 105.63945524598657, 84.31927927385861, 278.7670854366888, 120.82192026549383, 305.5747919718327, 94.03584856869871, 107.02317777730227, 107.43830228117503, 455.0925030833207, 226.97072747076564, 173.2095075226031, 272.3744815357214, 193.3953390019239, 171.28935916490784, 117.03536508299663, 493.2837091045074, 1618.4148413819153, 865.2312326173119, 992.6404338972401, 262.56772828675406, 380.32963483814984, 251.1326113507174, 247.63802821341184, 114.03628262767907, 117.52119437213167, 57.66416759057923, 44.736521947807155, 42.8242760654453, 41.71131509969514, 40.50319833323513, 39.39032471070582, 38.17271037258554, 38.0395740398349, 37.85875064889425, 36.850469411066506, 35.67078591636424, 35.480774725699845, 33.853905228380064, 29.56373715419017, 28.783759629483484, 104.1257229647316, 23.256827899812272, 22.914390436452663, 22.761997372322334, 22.73362474499738, 22.400725549294435, 21.90590672117668, 20.897776393987883, 18.443347937490476, 17.43514362289106, 15.856046506116101, 15.80845039883737, 15.779949953098004, 15.237716171162557, 14.666983000684125, 30.90920746003029, 54.51646827815832, 29.52660307904531, 35.87648934224732, 86.65520679570696, 235.6800958781265, 81.46931258682233, 92.41789720774251, 226.4381197838212, 542.149903411218, 865.2312326173119, 112.09305148375721, 301.06216297414795, 276.60570479172713, 86.57908652626523, 493.2837091045074, 156.0853188778245, 300.05304662207556, 96.0383261809941, 277.28821760012653, 126.73408277369079, 455.0925030833207, 120.91670199199548, 992.6404338972401, 247.63802821341184, 238.84524585260104, 96.18278000792485, 178.02307058566598, 380.32963483814984, 1618.4148413819153, 151.5459692867129, 195.4917997116411, 134.09067193311432, 266.1031313157924, 111.75577704020591, 104.22786130862892, 71.398048421827, 70.0417354413639, 68.79519566573983, 67.92759030298654, 67.92759030298654, 67.92759030298654, 67.92759030298654, 67.92759030298654, 67.92759030298654, 141.2849944374143, 103.42613382105577, 42.41766122068894, 40.193783570545925, 39.70512166583658, 37.02248392729895, 36.533826704356905, 36.15487023954148, 36.154872632032315, 35.47673297911329, 35.28725282928723, 34.41964173063053, 34.41964173063053, 34.41964173063053, 34.41964173063053, 34.41964173063053, 34.41964173063053, 34.41964173063053, 69.7945681632423, 113.05174385155951, 44.726229131122324, 78.4163426999595, 83.3205330526895, 145.8867553880701, 40.30318023059249, 111.03126554451896, 136.20050313784571, 111.2449302861701, 428.7317191074424, 128.75880480576595, 896.9155947142344, 1065.5682138818827, 214.9618417648291, 251.1326113507174, 590.2480254501039, 126.21249150682928, 40.5663099394677, 33.18870888908378, 28.412461316978447, 26.73332909669433, 25.811105868113287, 25.811105868113287, 25.811105868113287, 25.811105868113287, 25.811105868113287, 25.811105868113287, 25.811105868113287, 25.811105868113287, 23.636111723787412, 23.04451687315267, 22.122308189397785, 21.20010126934853, 20.11260422953793, 19.355701253609826, 19.355707130443534, 17.511301671067642, 16.589098425958447, 16.589117392053627, 14.744769525491206, 14.579426535086787, 14.579551025938986, 29.97903459383117, 13.822524091154314, 13.822524091154314, 13.822524091154314, 13.822524091154314, 28.37162383386826, 50.17440208195634, 992.6404338972401, 48.19086276121932, 248.10527081134202, 151.5459692867129, 44.662144374886985, 121.16117609280951, 380.32963483814984, 272.3744815357214, 272.84106448036647, 59.0513204511546, 193.3953390019239, 91.5819836538398, 139.6371349410663, 99.16966118797916, 123.43512488427741, 1618.4148413819153, 96.48060291626933, 246.13427962966398, 865.2312326173119, 715.8589478704166, 226.97072747076564, 87.54206212922453, 251.1326113507174, 173.2095075226031, 134.61486173810886, 171.28935916490784, 114.03628262767907, 140.59728238758083, 62.52911247532639, 49.6937797426155, 38.486117034436354, 33.930705685781696, 25.1573227022862, 23.10211336473108, 18.51667195414455, 18.516674273481943, 15.802249730638565, 14.299622441869142, 14.299622441869142, 14.299622441869142, 14.299622441869142, 14.299622441869142, 13.716238236193147, 13.05857478312539, 23.667387502762725, 9.714181149290544, 9.714181149290544, 9.714181149290544, 9.714181149290544, 9.714181149290544, 8.502370247531008, 8.502365010324283, 6.89286122989575, 6.708887305156187, 6.340373600378503, 5.972151206172938, 5.972151206172938, 5.865517511405163, 715.8589478704166, 74.23360236465119, 163.8311765277739, 85.47552678042138, 86.31153509950803, 178.02307058566598, 779.9044325097648, 27.99897752788385, 200.20213986124548, 60.497050958778544, 91.61429590701935, 62.3842808306506, 94.51658244288184, 139.1949679963779, 134.09067193311432, 50.18355580978029, 865.2312326173119, 115.32470015211717, 102.57010479864692, 104.22287290748169, 110.84929113405579, 182.64351578870088, 123.23884400169958, 301.06216297414795, 380.32963483814984, 992.6404338972401, 247.63802821341184, 30.259566607076398, 18.25298621766744, 11.417245751752581, 8.07753575292092, 6.423881446043497, 6.113817473695011, 3.6677934534204444, 3.6677934534204444, 3.6677934534204444, 3.6677934534204444, 3.4778212042640435, 3.3579251341829015, 3.1165758047016046, 2.8062008199578905, 2.8062221108381697, 2.807084442958909, 2.685838189077094, 2.5653580942610303, 2.5653580942610303, 2.5653580942610303, 2.5653580942610303, 8.89508444367702, 4.749825241359424, 2.134544748254224, 2.1345459894374033, 2.1345459894374033, 2.1345970905735805, 2.134675314411182, 2.1351924048486146, 2.0141389471735396, 5.795067676986736, 7.818328713938603, 5.734140852313887, 3.418214942543481, 5.328135718882374, 9.938928005966536, 17.49529887374781, 100.18038631852767, 1618.4148413819153, 896.9155947142344, 34.983204122445265, 20.449541737119986, 26.959888816473942, 91.05013151983356, 15.854309455037622, 262.56772828675406, 53.72822599906199], \"Category\": [\"Default\", \"Default\", \"Default\", \"Default\", \"Default\", \"Default\", \"Default\", \"Default\", \"Default\", \"Default\", \"Default\", \"Default\", \"Default\", \"Default\", \"Default\", \"Default\", \"Default\", \"Default\", \"Default\", \"Default\", \"Default\", \"Default\", \"Default\", \"Default\", \"Default\", \"Default\", \"Default\", \"Default\", \"Default\", \"Default\", \"Topic1\", \"Topic1\", \"Topic1\", \"Topic1\", \"Topic1\", \"Topic1\", \"Topic1\", \"Topic1\", \"Topic1\", \"Topic1\", \"Topic1\", \"Topic1\", \"Topic1\", \"Topic1\", \"Topic1\", \"Topic1\", \"Topic1\", \"Topic1\", \"Topic1\", \"Topic1\", \"Topic1\", \"Topic1\", \"Topic1\", \"Topic1\", \"Topic1\", \"Topic1\", \"Topic1\", \"Topic1\", \"Topic1\", \"Topic1\", \"Topic1\", \"Topic1\", \"Topic1\", \"Topic1\", \"Topic1\", \"Topic1\", \"Topic1\", \"Topic1\", \"Topic2\", \"Topic2\", \"Topic2\", \"Topic2\", \"Topic2\", \"Topic2\", \"Topic2\", \"Topic2\", \"Topic2\", \"Topic2\", \"Topic2\", \"Topic2\", \"Topic2\", \"Topic2\", \"Topic2\", \"Topic2\", \"Topic2\", \"Topic2\", \"Topic2\", \"Topic2\", \"Topic2\", \"Topic2\", \"Topic2\", \"Topic2\", \"Topic2\", \"Topic2\", \"Topic2\", \"Topic2\", \"Topic2\", \"Topic2\", \"Topic2\", \"Topic2\", \"Topic2\", \"Topic2\", \"Topic2\", \"Topic2\", \"Topic2\", \"Topic2\", \"Topic2\", \"Topic2\", \"Topic2\", \"Topic2\", \"Topic2\", \"Topic2\", \"Topic2\", \"Topic2\", \"Topic2\", \"Topic2\", \"Topic2\", \"Topic2\", \"Topic2\", \"Topic2\", \"Topic2\", \"Topic2\", \"Topic2\", \"Topic3\", \"Topic3\", \"Topic3\", \"Topic3\", \"Topic3\", \"Topic3\", \"Topic3\", \"Topic3\", \"Topic3\", \"Topic3\", \"Topic3\", \"Topic3\", \"Topic3\", \"Topic3\", \"Topic3\", \"Topic3\", \"Topic3\", \"Topic3\", \"Topic3\", \"Topic3\", \"Topic3\", \"Topic3\", \"Topic3\", \"Topic3\", \"Topic3\", \"Topic3\", \"Topic3\", \"Topic3\", \"Topic3\", \"Topic3\", \"Topic3\", \"Topic3\", \"Topic3\", \"Topic3\", \"Topic3\", \"Topic3\", \"Topic3\", \"Topic3\", \"Topic3\", \"Topic3\", \"Topic3\", \"Topic3\", \"Topic3\", \"Topic3\", \"Topic3\", \"Topic3\", \"Topic3\", \"Topic3\", \"Topic3\", \"Topic3\", \"Topic3\", \"Topic3\", \"Topic3\", \"Topic3\", \"Topic3\", \"Topic3\", \"Topic3\", \"Topic3\", \"Topic3\", \"Topic3\", \"Topic3\", \"Topic3\", \"Topic3\", \"Topic4\", \"Topic4\", \"Topic4\", \"Topic4\", \"Topic4\", \"Topic4\", \"Topic4\", \"Topic4\", \"Topic4\", \"Topic4\", \"Topic4\", \"Topic4\", \"Topic4\", \"Topic4\", \"Topic4\", \"Topic4\", \"Topic4\", \"Topic4\", \"Topic4\", \"Topic4\", \"Topic4\", \"Topic4\", \"Topic4\", \"Topic4\", \"Topic4\", \"Topic4\", \"Topic4\", \"Topic4\", \"Topic4\", \"Topic4\", \"Topic4\", \"Topic4\", \"Topic4\", \"Topic4\", \"Topic4\", \"Topic4\", \"Topic4\", \"Topic4\", \"Topic4\", \"Topic4\", \"Topic4\", \"Topic4\", \"Topic4\", \"Topic4\", \"Topic4\", \"Topic4\", \"Topic4\", \"Topic4\", \"Topic4\", \"Topic4\", \"Topic4\", \"Topic4\", \"Topic4\", \"Topic4\", \"Topic4\", \"Topic4\", \"Topic4\", \"Topic4\", \"Topic4\", \"Topic4\", \"Topic4\", \"Topic4\", \"Topic4\", \"Topic5\", \"Topic5\", \"Topic5\", \"Topic5\", \"Topic5\", \"Topic5\", \"Topic5\", \"Topic5\", \"Topic5\", \"Topic5\", \"Topic5\", \"Topic5\", \"Topic5\", \"Topic5\", \"Topic5\", \"Topic5\", \"Topic5\", \"Topic5\", \"Topic5\", \"Topic5\", \"Topic5\", \"Topic5\", \"Topic5\", \"Topic5\", \"Topic5\", \"Topic5\", \"Topic5\", \"Topic5\", \"Topic5\", \"Topic5\", \"Topic5\", \"Topic5\", \"Topic5\", \"Topic5\", \"Topic5\", \"Topic5\", \"Topic5\", \"Topic5\", \"Topic5\", \"Topic5\", \"Topic5\", \"Topic5\", \"Topic5\", \"Topic5\", \"Topic5\", \"Topic5\", \"Topic5\", \"Topic5\", \"Topic6\", \"Topic6\", \"Topic6\", \"Topic6\", \"Topic6\", \"Topic6\", \"Topic6\", \"Topic6\", \"Topic6\", \"Topic6\", \"Topic6\", \"Topic6\", \"Topic6\", \"Topic6\", \"Topic6\", \"Topic6\", \"Topic6\", \"Topic6\", \"Topic6\", \"Topic6\", \"Topic6\", \"Topic6\", \"Topic6\", \"Topic6\", \"Topic6\", \"Topic6\", \"Topic6\", \"Topic6\", \"Topic6\", \"Topic6\", \"Topic6\", \"Topic6\", \"Topic6\", \"Topic6\", \"Topic6\", \"Topic6\", \"Topic6\", \"Topic6\", \"Topic6\", \"Topic6\", \"Topic6\", \"Topic6\", \"Topic6\", \"Topic6\", \"Topic6\", \"Topic6\", \"Topic6\", \"Topic6\", \"Topic6\", \"Topic6\", \"Topic6\", \"Topic6\", \"Topic6\", \"Topic6\", \"Topic6\", \"Topic6\", \"Topic6\", \"Topic6\", \"Topic6\", \"Topic6\", \"Topic7\", \"Topic7\", \"Topic7\", \"Topic7\", \"Topic7\", \"Topic7\", \"Topic7\", \"Topic7\", \"Topic7\", \"Topic7\", \"Topic7\", \"Topic7\", \"Topic7\", \"Topic7\", \"Topic7\", \"Topic7\", \"Topic7\", \"Topic7\", \"Topic7\", \"Topic7\", \"Topic7\", \"Topic7\", \"Topic7\", \"Topic7\", \"Topic7\", \"Topic7\", \"Topic7\", \"Topic7\", \"Topic7\", \"Topic7\", \"Topic7\", \"Topic7\", \"Topic7\", \"Topic7\", \"Topic7\", \"Topic7\", \"Topic7\", \"Topic7\", \"Topic7\", \"Topic7\", \"Topic7\", \"Topic7\", \"Topic7\", \"Topic7\", \"Topic7\", \"Topic7\", \"Topic7\", \"Topic7\", \"Topic7\", \"Topic7\", \"Topic7\", \"Topic7\", \"Topic7\", \"Topic7\", \"Topic7\", \"Topic7\", \"Topic7\", \"Topic8\", \"Topic8\", \"Topic8\", \"Topic8\", \"Topic8\", \"Topic8\", \"Topic8\", \"Topic8\", \"Topic8\", \"Topic8\", \"Topic8\", \"Topic8\", \"Topic8\", \"Topic8\", \"Topic8\", \"Topic8\", \"Topic8\", \"Topic8\", \"Topic8\", \"Topic8\", \"Topic8\", \"Topic8\", \"Topic8\", \"Topic8\", \"Topic8\", \"Topic8\", \"Topic8\", \"Topic8\", \"Topic8\", \"Topic8\", \"Topic8\", \"Topic8\", \"Topic8\", \"Topic8\", \"Topic8\", \"Topic8\", \"Topic8\", \"Topic8\", \"Topic8\", \"Topic8\", \"Topic8\", \"Topic8\", \"Topic8\", \"Topic8\", \"Topic8\", \"Topic8\", \"Topic8\"], \"logprob\": [30.0, 29.0, 28.0, 27.0, 26.0, 25.0, 24.0, 23.0, 22.0, 21.0, 20.0, 19.0, 18.0, 17.0, 16.0, 15.0, 14.0, 13.0, 12.0, 11.0, 10.0, 9.0, 8.0, 7.0, 6.0, 5.0, 4.0, 3.0, 2.0, 1.0, -4.2095, -4.2679, -4.3094, -4.3516, -4.4459, -4.4639, -5.3206, -5.3617, -5.393, -5.6081, -5.6081, -5.6081, -5.6081, -5.6081, -5.6081, -5.6081, -5.6081, -5.6081, -5.6081, -5.6081, -5.6081, -5.6081, -5.6081, -5.6081, -5.6492, -5.6577, -5.6663, -5.675, -5.675, -5.675, -3.8494, -4.013, -5.3434, -3.6872, -5.3369, -5.4252, -5.0758, -5.1068, -4.6623, -5.2581, -5.4417, -5.5997, -5.7536, -5.7654, -5.7879, -5.8022, -5.9525, -6.0198, -6.0366, -6.1347, -6.1347, -6.2127, -6.2245, -6.2844, -6.2844, -6.3443, -6.3538, -6.3538, -6.3538, -6.3538, -6.3538, -6.3538, -6.3538, -6.3538, -6.3538, -6.3538, -6.3538, -6.3538, -5.4462, -6.1448, -3.7192, -5.2147, -5.1177, -4.2339, -5.8441, -4.3726, -5.1574, -4.4048, -5.66, -5.6437, -5.5963, -5.2556, -4.915, -5.6021, -5.2107, -4.5206, -5.4819, -5.5539, -5.7222, -5.7521, -5.6185, -5.6504, -5.7829, -4.741, -5.298, -5.3314, -5.3301, -5.4103, -5.4397, -5.5548, -5.5577, -5.5842, -5.5815, -5.6006, -5.6447, -5.6552, -5.7828, -5.7931, -5.8755, -5.8912, -5.9253, -5.9372, -5.9465, -5.9874, -5.9952, -5.9959, -6.0035, -6.0187, -6.0229, -6.028, -6.0331, -6.0463, -6.0808, -4.7684, -4.9718, -5.062, -5.5664, -5.6865, -4.8899, -5.3221, -4.3275, -5.1935, -5.3788, -4.464, -5.1151, -4.4215, -5.3111, -5.2175, -5.2211, -4.276, -4.741, -4.9781, -4.7225, -4.9281, -5.0206, -5.2198, -4.5246, -3.9499, -4.3232, -4.3357, -4.9008, -4.766, -4.9779, -5.0732, -5.2617, -5.2714, -5.0801, -5.338, -5.3825, -5.4094, -5.4393, -5.4678, -5.4998, -5.5034, -5.5083, -5.5359, -5.5691, -5.5746, -5.6226, -5.7616, -5.7891, -4.5038, -6.0091, -6.0245, -6.0314, -6.0327, -6.048, -6.0712, -6.1201, -6.2503, -6.3091, -6.409, -6.412, -6.4139, -6.4508, -6.4911, -5.7483, -5.2424, -5.8343, -5.6802, -5.0047, -4.2168, -5.1016, -5.014, -4.3824, -3.8448, -3.5555, -4.9591, -4.3124, -4.4207, -5.1645, -4.1053, -4.8329, -4.5314, -5.1788, -4.6717, -5.0474, -4.5268, -5.0735, -4.2803, -4.9114, -4.9277, -5.2125, -5.0495, -4.9354, -4.7234, -5.1807, -5.1589, -5.2102, -3.2909, -4.1628, -4.2329, -4.6147, -4.6341, -4.6523, -4.6651, -4.6651, -4.6651, -4.6651, -4.6651, -4.6651, -3.9375, -4.2498, -5.1431, -5.198, -5.2105, -5.2819, -5.2955, -5.3062, -5.3062, -5.3255, -5.331, -5.3565, -5.3565, -5.3565, -5.3565, -5.3565, -5.3565, -5.3565, -4.6651, -4.2116, -5.1162, -4.6244, -4.6651, -4.2598, -5.2381, -4.6434, -4.5404, -4.6651, -3.963, -4.6547, -3.7833, -3.8061, -4.665, -4.655, -4.6519, -5.0821, -4.7764, -4.9816, -5.1412, -5.204, -5.2402, -5.2402, -5.2402, -5.2402, -5.2402, -5.2402, -5.2402, -5.2402, -5.3312, -5.3575, -5.3998, -5.444, -5.4988, -5.5388, -5.5388, -5.6436, -5.7004, -5.7004, -5.8247, -5.8366, -5.8367, -5.1188, -5.8931, -5.8931, -5.8931, -5.8931, -5.184, -4.7001, -2.3144, -4.868, -3.7213, -4.1299, -5.0778, -4.5435, -3.9499, -4.1989, -4.2533, -5.0402, -4.5637, -4.8729, -4.7603, -4.8861, -4.827, -4.118, -4.9209, -4.7176, -4.4299, -4.4754, -4.7568, -4.9954, -4.8052, -4.8897, -4.9369, -4.9158, -4.9834, -5.0144, -4.2399, -4.473, -4.7337, -4.8622, -5.1697, -5.2579, -5.488, -5.488, -5.6542, -5.7597, -5.7597, -5.7597, -5.7597, -5.7597, -5.8053, -5.8564, -5.271, -6.1746, -6.1746, -6.1746, -6.1746, -6.1746, -6.3207, -6.3207, -6.5554, -6.5865, -6.65, -6.7185, -6.7185, -6.7395, -2.033, -4.3242, -3.5746, -4.372, -4.373, -3.7781, -2.673, -5.359, -3.9727, -4.8569, -4.5673, -4.8542, -4.624, -4.4053, -4.459, -5.0574, -3.5064, -4.6244, -4.7026, -4.7026, -4.6758, -4.6323, -4.8314, -4.6346, -4.7139, -4.6301, -5.134, -3.1253, -3.6496, -4.1481, -4.5272, -4.7864, -4.8437, -5.466, -5.466, -5.466, -5.466, -5.5355, -5.5825, -5.6824, -5.8288, -5.8288, -5.8297, -5.8918, -5.959, -5.959, -5.959, -5.959, -4.7343, -5.4242, -6.2455, -6.2455, -6.2455, -6.2456, -6.2456, -6.2465, -6.3427, -5.4951, -5.2912, -5.6431, -5.96, -5.7292, -5.4217, -5.2713, -4.7721, -3.9166, -4.1536, -5.2664, -5.4286, -5.368, -5.3032, -5.5676, -5.4857, -5.6307], \"loglift\": [30.0, 29.0, 28.0, 27.0, 26.0, 25.0, 24.0, 23.0, 22.0, 21.0, 20.0, 19.0, 18.0, 17.0, 16.0, 15.0, 14.0, 13.0, 12.0, 11.0, 10.0, 9.0, 8.0, 7.0, 6.0, 5.0, 4.0, 3.0, 2.0, 1.0, 0.9364, 0.9363, 0.9362, 0.9362, 0.936, 0.936, 0.9336, 0.9334, 0.9332, 0.9322, 0.9322, 0.9322, 0.9322, 0.9322, 0.9322, 0.9322, 0.9322, 0.9322, 0.9322, 0.9322, 0.9322, 0.9322, 0.9322, 0.9322, 0.9319, 0.9319, 0.9318, 0.9318, 0.9318, 0.9318, 0.6603, 0.669, 0.8521, 0.4046, 0.8417, 0.7796, 0.3443, -0.0064, 1.6911, 1.6874, 1.6857, 1.684, 1.682, 1.6819, 1.6816, 1.6814, 1.679, 1.6779, 1.6776, 1.6757, 1.6757, 1.6741, 1.6739, 1.6725, 1.6725, 1.6711, 1.6709, 1.6709, 1.6709, 1.6709, 1.6709, 1.6709, 1.6709, 1.6709, 1.6709, 1.6709, 1.6709, 1.6709, 1.6152, 1.649, 1.1026, 1.4205, 1.3116, 0.9515, 1.4851, 0.7278, 0.9757, 0.3132, 1.1313, 1.1082, 1.0411, 0.7313, 0.3649, 1.0237, 0.5629, -0.4288, 0.5233, 0.6278, 0.9167, 0.8911, 0.2399, 0.3247, -0.8754, 1.8445, 1.8401, 1.8397, 1.8397, 1.8388, 1.8385, 1.8371, 1.837, 1.8367, 1.8366, 1.8364, 1.8358, 1.8356, 1.8337, 1.8335, 1.832, 1.8317, 1.8311, 1.8309, 1.8307, 1.8299, 1.8297, 1.8297, 1.8295, 1.8292, 1.8292, 1.829, 1.8289, 1.8287, 1.8279, 1.8103, 1.7964, 1.7918, 1.7977, 1.8035, 1.7238, 1.7413, 1.4495, 1.6274, 1.6676, 1.3866, 1.5716, 1.3373, 1.6262, 1.5905, 1.583, 1.0845, 1.3151, 1.3484, 1.1513, 1.2881, 1.317, 1.4987, 0.7552, 0.1418, 0.3948, 0.2449, 1.0096, 0.7739, 0.9771, 0.8958, 1.4827, 1.443, 2.3462, 2.3421, 2.3413, 2.3408, 2.3402, 2.3397, 2.339, 2.339, 2.3388, 2.3382, 2.3375, 2.3374, 2.3363, 2.3328, 2.3321, 2.3316, 2.3253, 2.3247, 2.3245, 2.3244, 2.3239, 2.323, 2.3212, 2.3159, 2.3133, 2.3084, 2.3084, 2.3083, 2.3064, 2.3043, 2.3016, 2.24, 2.2614, 2.2207, 2.0144, 1.8017, 1.9792, 1.9407, 1.6761, 1.3406, 1.1625, 1.8025, 1.4612, 1.4376, 1.8554, 1.1746, 1.5976, 1.2456, 1.7374, 1.1842, 1.5915, 0.8337, 1.6124, 0.3003, 1.0576, 1.0774, 1.7022, 1.2496, 0.6045, -0.6317, 1.2794, 1.0466, 1.3722, 2.6061, 2.6019, 2.6015, 2.598, 2.5977, 2.5975, 2.5974, 2.5974, 2.5974, 2.5974, 2.5974, 2.5974, 2.5927, 2.5923, 2.5903, 2.5892, 2.589, 2.5875, 2.5872, 2.587, 2.587, 2.5865, 2.5864, 2.5858, 2.5858, 2.5858, 2.5858, 2.5858, 2.5858, 2.5858, 2.5703, 2.5415, 2.5642, 2.4945, 2.3931, 2.2383, 2.5465, 2.1278, 2.0264, 2.1041, 1.4572, 1.9683, 0.8987, 0.7036, 1.4456, 1.3, 0.4485, 1.5609, 3.0016, 2.9971, 2.9929, 2.9911, 2.99, 2.99, 2.99, 2.99, 2.99, 2.99, 2.99, 2.99, 2.987, 2.9861, 2.9846, 2.9829, 2.9808, 2.9792, 2.9791, 2.9746, 2.9719, 2.9719, 2.9654, 2.9648, 2.9647, 2.9617, 2.9616, 2.9616, 2.9616, 2.9616, 2.9515, 2.8654, 2.2662, 2.7378, 2.2458, 2.3302, 2.6041, 2.1403, 1.59, 1.6749, 1.6188, 2.3623, 1.6526, 2.0908, 1.7816, 1.9981, 1.8383, -0.0262, 1.9907, 1.2575, 0.2881, 0.4321, 1.2993, 2.0134, 1.1498, 1.4368, 1.6417, 1.4218, 1.7611, 1.5206, 3.1054, 3.1021, 3.097, 3.0945, 3.0861, 3.0832, 3.0743, 3.0743, 3.0666, 3.061, 3.061, 3.061, 3.061, 3.061, 3.0571, 3.0551, 3.0459, 3.0328, 3.0328, 3.0328, 3.0328, 3.0328, 3.02, 3.0199, 2.9951, 2.991, 2.9841, 2.9754, 2.9754, 2.9724, 2.8745, 2.8496, 2.8075, 2.6607, 2.65, 2.5209, 2.1488, 2.7898, 2.2089, 2.5214, 2.3961, 2.4934, 2.3082, 2.1398, 2.1235, 2.5079, 1.2115, 2.1088, 2.1478, 2.1318, 2.097, 1.6411, 1.8355, 1.1391, 0.826, -0.0495, 0.835, 4.9459, 4.927, 4.8977, 4.8647, 4.8346, 4.8268, 4.7154, 4.7154, 4.7154, 4.7154, 4.699, 4.6871, 4.6618, 4.6203, 4.6203, 4.6191, 4.6012, 4.5798, 4.5798, 4.5798, 4.5798, 4.5612, 4.4986, 4.4772, 4.4772, 4.4772, 4.4771, 4.477, 4.4759, 4.4381, 4.2289, 4.1333, 4.0914, 4.2918, 4.0788, 3.7628, 3.3477, 2.1019, 0.1752, 0.5284, 2.6597, 3.0344, 2.8186, 1.6663, 3.1499, 0.4247, 1.8663]}, \"token.table\": {\"Topic\": [5, 5, 5, 4, 7, 6, 3, 4, 2, 7, 1, 6, 5, 4, 5, 4, 4, 7, 1, 3, 4, 7, 3, 6, 6, 6, 2, 3, 4, 5, 6, 7, 5, 3, 1, 3, 8, 2, 5, 2, 1, 2, 4, 7, 7, 2, 7, 1, 2, 7, 1, 2, 3, 6, 8, 3, 1, 5, 8, 5, 3, 7, 1, 3, 3, 8, 3, 2, 2, 1, 1, 5, 5, 3, 4, 5, 4, 5, 2, 3, 4, 5, 6, 1, 2, 3, 4, 6, 7, 8, 1, 3, 5, 2, 3, 7, 5, 3, 3, 8, 8, 2, 3, 5, 1, 2, 4, 4, 7, 2, 3, 4, 5, 1, 2, 6, 7, 1, 2, 3, 5, 1, 2, 3, 5, 6, 1, 7, 1, 8, 7, 6, 6, 2, 3, 4, 6, 7, 5, 4, 3, 6, 3, 6, 1, 5, 3, 4, 5, 4, 7, 4, 2, 3, 4, 6, 7, 6, 1, 2, 5, 2, 3, 6, 5, 6, 3, 4, 8, 1, 2, 7, 3, 1, 3, 4, 4, 2, 3, 4, 6, 6, 5, 6, 4, 7, 6, 1, 2, 3, 4, 3, 7, 3, 4, 5, 1, 2, 3, 4, 1, 8, 5, 3, 2, 7, 3, 2, 3, 4, 5, 6, 7, 6, 7, 2, 4, 3, 6, 2, 4, 8, 6, 2, 1, 7, 3, 4, 6, 3, 4, 2, 5, 4, 4, 8, 1, 3, 4, 8, 5, 8, 3, 4, 7, 1, 2, 3, 4, 5, 6, 5, 1, 2, 3, 4, 5, 7, 4, 3, 8, 3, 5, 1, 4, 8, 8, 5, 1, 2, 4, 6, 5, 8, 1, 2, 3, 4, 7, 4, 7, 2, 2, 2, 3, 4, 2, 3, 2, 2, 3, 6, 8, 2, 3, 4, 7, 1, 3, 6, 1, 7, 3, 6, 2, 4, 7, 3, 2, 4, 8, 2, 4, 7, 8, 1, 7, 4, 2, 4, 7, 1, 1, 1, 4, 5, 2, 3, 4, 6, 2, 3, 4, 6, 4, 1, 2, 3, 4, 6, 1, 8, 3, 4, 7, 8, 3, 7, 8, 2, 4, 7, 1, 5, 8, 1, 2, 3, 6, 8, 2, 2, 3, 4, 7, 1, 3, 4, 5, 8, 3, 5, 8, 8, 5, 3, 6, 8, 2, 3, 4, 7, 1, 5, 6, 1, 7, 2, 7, 1, 2, 5, 1, 2, 3, 7, 5, 1, 4, 8, 8, 8, 2, 8, 2, 3, 4, 6, 3, 4, 6, 7, 8, 1, 2, 3, 1, 4, 4, 4, 8, 3, 4, 2, 3, 4, 6, 1, 2, 7, 1, 7, 1, 2, 3, 6, 8, 6, 3, 1, 3, 4, 5, 6, 2, 3, 1, 1, 2, 3, 7, 1, 2, 4, 6, 2, 4, 2, 4, 7, 7, 3, 4, 6, 1, 2, 3, 4, 6, 7, 1, 2, 6, 7, 2, 3, 4, 5, 6, 7, 4, 2, 3, 4, 2, 1, 3, 4, 5, 6, 7, 4, 6, 2, 3, 4, 6, 4, 6, 3, 7, 3, 4, 6, 6, 2, 3, 4, 3, 2, 3, 4, 2, 7, 7, 4, 6, 3, 4, 2, 1, 2, 7, 7, 6, 8, 4, 8, 3, 2, 1, 2, 3, 4, 5, 6, 1, 5, 7, 3, 4, 6, 1, 2, 3, 4, 4, 7, 1, 2, 3, 4, 5, 6, 3, 8, 3, 6, 7, 2, 2, 5, 8, 8, 2, 2, 6, 8, 7, 1, 2, 3, 4, 6, 7, 2, 2, 3, 1, 4, 5, 3, 1, 2, 3, 4, 2, 4, 6, 4, 2, 3, 7, 6, 4, 4, 1, 2, 3, 4, 3, 4, 3, 3, 2, 8, 5, 2, 3, 4, 5, 7, 2, 3, 4, 6, 1, 2, 3, 4, 6, 8, 2, 3, 4, 7, 1, 4, 3, 7, 8, 2, 8, 8, 2, 3, 5, 6, 8, 2, 1, 3, 4, 5, 6, 8, 3, 6, 7, 1, 2, 3, 8, 1, 3, 5, 6, 7, 8, 1, 2, 7, 1, 1, 2, 4, 5, 1, 2, 3, 4, 5, 6, 7, 6, 1, 2, 7, 2, 3, 4, 5, 3, 4, 3, 7, 4, 2, 1, 4, 5, 6, 1, 7, 1, 2, 3, 4, 6, 8, 1, 1, 2, 3, 5, 6, 7, 1, 2, 3, 4, 5, 8, 1, 7, 4, 8, 7, 7], \"Freq\": [0.9878080738342757, 0.9878080738342757, 0.9878080738342757, 0.0422522342139904, 0.9295491527077888, 0.9404939296375916, 0.2884996865674613, 0.7039392352246056, 0.9779998850351452, 0.8372192577495188, 0.9959113679705716, 0.9685753151276126, 0.9865620946721909, 0.967729530454275, 0.9878080738342757, 0.9545248671350465, 0.969278828746, 0.9720969321363981, 0.2834588553448045, 0.46583935917130664, 0.21753819131112903, 0.032960332016837735, 0.9912999059234173, 0.9816226228240423, 0.9644877193806694, 0.9641833343666237, 0.07161418776044416, 0.49413789554706467, 0.1360669567448439, 0.0071614187760444155, 0.28645675104177665, 0.8943360839268586, 0.9878080738342757, 0.9857518281743841, 0.9937294586137393, 0.9804361569640315, 0.9634547805289614, 0.9779998850351452, 0.9878080738342757, 0.979382429225138, 0.44136185001188805, 0.16311198804787166, 0.019189645652690785, 0.3741980902274703, 0.9409146737743829, 0.9779998850351452, 0.9539965871574629, 0.9937294586137393, 0.4383906171055422, 0.5380248482658928, 0.9166835803072665, 0.08103280267909538, 0.6927619717132466, 0.2806124442382771, 0.017538277764892318, 0.9869589960400821, 0.007077892482368146, 0.9838270550491723, 0.007077892482368146, 0.9680576853992292, 0.9781024764719409, 0.9790468284678727, 0.9937294586137393, 0.9742738275239453, 0.7430567544923092, 0.17147463565207136, 0.9942004084008061, 0.9802054479651348, 0.9779998850351452, 0.9937294586137393, 0.3084584332573338, 0.6923178168664602, 0.9878080738342757, 0.7531745878565478, 0.23174602703278394, 0.008276643822599426, 0.9488596049302322, 0.9853881525010562, 0.2635400229129767, 0.33449310600493193, 0.30611187276814983, 0.07095308309195526, 0.02432677134581323, 0.5869941227113463, 0.11925249019293667, 0.18104134521518364, 0.05004897256802005, 0.04757741836713017, 0.0067967740524471675, 0.008032551152892108, 0.9904972971897121, 0.9891087172483246, 0.9680576213395611, 0.208546864324078, 0.16220311669650514, 0.6256405929722341, 0.9863444250142087, 0.9948806330860379, 0.5116182941846326, 0.3837137206384744, 0.49649007651796295, 0.7625542892897186, 0.22011876391868165, 0.015722768851334404, 0.9937294586137393, 0.30686401058505747, 0.6873753837105286, 0.9699812603866356, 0.019207549710626447, 0.1324865266883543, 0.20756222514508843, 0.5034488014157464, 0.15015139691346824, 0.06425846898588579, 0.07683077813529823, 0.07543385489647463, 0.783673936980042, 0.8536432907960853, 0.08689782002115838, 0.0562280011901613, 0.9863444250142087, 0.3896666995617808, 0.37950148131234307, 0.07285073078763728, 0.11520580682696129, 0.042355076039324, 0.9933992804131403, 0.9409140941989805, 0.34512107735037545, 0.5176816160255632, 0.9189364229476783, 0.9816229208671275, 0.9404939296375916, 0.011546710273620565, 0.6062022893650797, 0.04041348595767198, 0.2078407849251702, 0.13856052328344678, 0.9863444250142087, 0.9747767584679056, 0.9870452631937489, 0.9492680338873655, 0.9878826913824156, 0.9854830839054421, 0.009668736160341878, 0.9862110883548715, 0.8046236115291715, 0.18932320271274625, 0.9822410400408549, 0.9809314650833895, 0.9873690288370378, 0.9570396210074213, 0.25080000792802887, 0.23346360185005452, 0.3016534657567536, 0.06472258269110422, 0.14909309227057937, 0.9725687326841381, 0.4227556758744526, 0.5698011283525231, 0.985126932752316, 0.11423080239118172, 0.5140386107603178, 0.3655385676517815, 0.96352074117204, 0.9602490484852457, 0.09171540559980146, 0.880467893758094, 0.8179304636694616, 0.4484737545145495, 0.16574030058146397, 0.38022774839277024, 0.9821703496217189, 0.4654926709674214, 0.26599581198138367, 0.27111111605794874, 0.9665232641996132, 0.10557852561376459, 0.052789262806882294, 0.3365315503938746, 0.5014979966653818, 0.9685753151276126, 0.9932372441029692, 0.9685753151276126, 0.9750421543806642, 0.9790468284678727, 0.9404939296375916, 0.28189710804538204, 0.13454180156711415, 0.12172829665596041, 0.4676929292571111, 0.8927275138677739, 0.09651108258029989, 0.7006429205552441, 0.2734216275337538, 0.017088851720859614, 0.13737966839336324, 0.23499153804127923, 0.22776102917847063, 0.3976779874544725, 0.9937294586137393, 0.4684836986171319, 0.9884411163011513, 0.9852323374176747, 0.989394857575304, 0.9264805609124652, 0.992898355547762, 0.06864858407509843, 0.3836244404196677, 0.27055618429597617, 0.1332590161457793, 0.03634336803975799, 0.10095380011043886, 0.9685753151276126, 0.9264805609124652, 0.06773552631997065, 0.9144296053196038, 0.7975681736439917, 0.191416361674558, 0.5145326293440108, 0.37160689897067445, 0.08575543822400179, 0.9685753151276126, 0.9923613340598596, 0.9937294586137393, 0.9790468284678727, 0.9815883870719486, 0.9187728556392893, 0.9404939296375916, 0.9879272651466029, 0.9864497117265141, 0.10201955006509289, 0.8926710630695628, 0.9835364504047401, 0.6036868358839184, 0.3018434179419592, 0.2934051079056117, 0.048900851317601954, 0.4890085131760195, 0.14670255395280585, 0.9882194521386839, 0.7124830195317629, 0.25355977048843126, 0.3728820154241636, 0.3728820154241636, 0.13927522263692996, 0.135610085199116, 0.271220170398232, 0.11728439801004627, 0.09529357338316259, 0.24556420833353437, 0.9958544970503062, 0.1803177950824593, 0.12261610065607233, 0.23080677770554792, 0.31014660754183, 0.1298288124593707, 0.02885084721319349, 0.9459587564896408, 0.29255035648984196, 0.5851007129796839, 0.991968719296171, 0.9944249397479986, 0.4103733406407052, 0.5709542130653289, 0.017842319158291528, 0.4684836986171319, 0.9702992984362704, 0.16231673093788682, 0.47588314297698636, 0.3615236279980206, 0.9433917199686374, 0.9723820819449391, 0.8179304636694616, 0.008671169304415848, 0.30349092565455466, 0.26880624843689127, 0.052027015826495084, 0.36418911078546556, 0.981195090067906, 0.9264805609124652, 0.9728785041603661, 0.9781470252592128, 0.9688755042179461, 0.9391410862473201, 0.04891359824204792, 0.9963985068868378, 0.9777359904004642, 0.9676074229122782, 0.9779998850351452, 0.9877934356692303, 0.8199663338770847, 0.18922300012548107, 0.12931501949458685, 0.3592083874849635, 0.12931501949458685, 0.373576722984362, 0.9937294586137393, 0.9824139200796957, 0.9708016182536322, 0.5021050431549029, 0.4802743891046898, 0.22825903853400276, 0.7470295806567363, 0.9728785041603661, 0.976921069808378, 0.9860389017255506, 0.9885302478951326, 0.33543286459241045, 0.6600453141979689, 0.8179304636694616, 0.42691289644856245, 0.5414505028128109, 0.020825019338954264, 0.010412509669477132, 0.998862646701515, 0.9463164756792591, 0.9884821437934407, 0.21973839633567552, 0.042726910398603574, 0.7324613211189184, 0.9937294586137393, 0.9991405430506015, 0.6326704259855834, 0.051171872690010424, 0.3116832245664271, 0.23471292929425028, 0.4338632935439172, 0.09957518212483345, 0.22048790327641693, 0.07489952642544903, 0.5859786479167483, 0.163016616337742, 0.1806400343202006, 0.9460113524650737, 0.15032444914081272, 0.2518950228846051, 0.23564373108559833, 0.186889855688578, 0.1706385638895712, 0.9933992804131403, 0.4684724833627939, 0.35805413574784745, 0.600606937383486, 0.03465040023366266, 0.8934088403165078, 0.9610837243722712, 0.036964758629702735, 0.7796182546499865, 0.5139787235825442, 0.3192898131346108, 0.17132624119418138, 0.38653446848665723, 0.6022746369443264, 0.6417299386662887, 0.5714314625211753, 0.38232464758611007, 0.04522119487577646, 0.9644888220666271, 0.7796182546499865, 0.9779998850351452, 0.9779998850351452, 0.1652973135304363, 0.2644757016486981, 0.5454811346504398, 0.46915371089268476, 0.039927975395122106, 0.02994598154634158, 0.4092617478000016, 0.05989196309268316, 0.06191854952004296, 0.9376237498749364, 0.9583745985713543, 0.8179304636694616, 0.9901536009136395, 0.035246484510564495, 0.9164085972746768, 0.9340147464420334, 0.14605784520140228, 0.3245729893364495, 0.25154406673574836, 0.2758870409359821, 0.4131725069976102, 0.2754483379984068, 0.3078540248217488, 0.9914481411424508, 0.9720968103747506, 0.22900680363715067, 0.767846341606917, 0.9937294586137393, 0.1920294963773463, 0.8041235160801375, 0.9981604191905259, 0.9779998850351452, 0.9745859919026097, 0.9477817296652661, 0.9863444250142087, 0.9927983660746428, 0.523182125669169, 0.34878808377944603, 0.9313544533083222, 0.46845531648256067, 0.8531192452821157, 0.11127642329766727, 0.13232249752444603, 0.38042718038278234, 0.47139889743083896, 0.016540312190555753, 0.444366468977879, 0.05290077011641417, 0.042320616093131334, 0.444366468977879, 0.021160308046565667, 0.39755097826272495, 0.5565713695678149, 0.04417233091808055, 0.9937294586137393, 0.9759616345691084, 0.9727707693653517, 0.9586455501382679, 0.7446464973704312, 0.11149362920774115, 0.864075626359994, 0.1248281403173262, 0.4956411453776187, 0.11748530853395406, 0.2606705283097106, 0.249747580293865, 0.3446516608055337, 0.4045910800760613, 0.9937294586137393, 0.9264805609124652, 0.99794360453023, 0.9731505335949613, 0.5397535366327988, 0.4094682002041922, 0.037224381836744744, 0.9602572478627783, 0.9896805354840928, 0.009006472141840456, 0.19814238712049, 0.009006472141840456, 0.6214465777869914, 0.15311002641128774, 0.9270284535586627, 0.07223598339418151, 0.9937294586137393, 0.06411041906647194, 0.5526318123529881, 0.0038466251439883163, 0.37953368087351386, 0.9991152752317698, 0.5389684395435235, 0.10364777683529297, 0.3524024412399961, 0.9779998850351452, 0.9829467112701911, 0.11796223900033591, 0.33141771909618184, 0.5504904486682343, 0.8704658051110578, 0.5687830977090182, 0.1706349293127055, 0.25336701625219904, 0.2188973557775376, 0.4853810932458443, 0.06662093436707667, 0.2093800794393838, 0.014275914507230713, 0.8524397020855852, 0.3796595698671989, 0.13205550256250395, 0.41267344550782487, 0.07428122019140848, 0.1491302457178937, 0.18943571753354066, 0.09673313235755268, 0.00806109436312939, 0.4594823786983752, 0.09270258517598799, 0.9821110459831933, 0.9779998850351452, 0.6698815501552451, 0.32660891500106476, 0.9779998850351452, 0.12620631053487724, 0.34180875769862584, 0.1735336769854562, 0.021034385089146204, 0.23926613038903807, 0.09991332917344448, 0.33585489926530104, 0.6493194719129154, 0.19654520771286335, 0.20746438591913355, 0.19654520771286335, 0.3930904154257267, 0.1395133715508158, 0.8570107109550114, 0.44883101363321415, 0.5289794089248595, 0.5838074267282743, 0.21017067362217876, 0.20433259935489603, 0.9494892392720262, 0.13614565513464652, 0.6637100687814018, 0.19570937925605436, 0.981667388854476, 0.4576511600558997, 0.07101483518108788, 0.4655416972982428, 0.951606845680935, 0.025042285412656184, 0.9492319293573052, 0.980752130773078, 0.9860398951663896, 0.7632287392758603, 0.23269168880361593, 0.9903012833125762, 0.4982383284018542, 0.2737573232977221, 0.2299561515700866, 0.9522938292557415, 0.9685753151276126, 0.7127019605025615, 0.9726712491904808, 0.8178196391228126, 0.9762863028822426, 0.9863977652756544, 0.757342410825193, 0.015953929348238267, 0.021584727941734126, 0.032846325128725845, 0.14827769629539095, 0.022523194373983438, 0.028655525102214346, 0.9599600909241806, 0.9915381419249285, 0.8301778739432608, 0.08301778739432608, 0.08301778739432608, 0.18840651334450645, 0.3098240441665217, 0.22190100460575204, 0.2763295529052761, 0.25000912954870524, 0.7143117987105864, 0.007963919895719615, 0.13140467827937366, 0.4181057945252798, 0.019909799739299038, 0.2707732764544669, 0.1552964379665325, 0.22484328425028946, 0.6745298527508684, 0.9798990346172218, 0.9339860465607389, 0.03335664452002639, 0.9916481244042624, 0.022358245249523158, 0.9614045457294959, 0.46834186826872876, 0.7796182546499865, 0.9917241594104186, 0.9712783532359585, 0.9730872940853792, 0.7127073678319329, 0.9725703999674932, 0.9933992804131403, 0.03737508157647258, 0.7755329427118062, 0.09343770394118146, 0.07475016315294516, 0.028031311182354437, 0.9777485111398061, 0.8025885128323924, 0.17310732629718267, 0.9924153048072366, 0.049623875549202494, 0.9428536354348475, 0.9803246638875057, 0.1542506351947558, 0.06098280926304299, 0.6277642130019131, 0.1542506351947558, 0.2709507573710345, 0.2032130680282759, 0.5249670924063794, 0.9773169839422756, 0.21058659335601773, 0.1520903174237906, 0.6317597800680532, 0.9685753151276126, 0.9600953628250117, 0.987576330908608, 0.19093678586786614, 0.1103190318347671, 0.1272911905785774, 0.5728103576035984, 0.8848010385915911, 0.11540883112064232, 0.983264213734892, 0.9830847409481526, 0.3753658137708847, 0.3753658137708847, 0.9863444250142087, 0.1668985837179301, 0.5988713886349256, 0.11126572247862007, 0.07854050998490829, 0.0458152974911965, 0.12628620481053004, 0.44571601697834135, 0.17085780650836419, 0.2525724096210601, 0.9937294586137393, 0.18671032887302166, 0.32948881565827354, 0.28555697357050375, 0.16474440782913677, 0.032948881565827356, 0.32219259651146975, 0.13286292639648237, 0.4085534986691833, 0.1395060727163065, 0.032352819181570174, 0.9382317562655351, 0.9584349527674207, 0.022289184948079552, 0.014859456632053035, 0.21053406160976879, 0.6316021848293064, 0.8666009305460182, 0.18150712409796826, 0.24200949879729103, 0.21175831144762963, 0.36301424819593653, 0.468483971028421, 0.9676074229122782, 0.7648434301318686, 0.013379185366738228, 0.01895384593621249, 0.18061900245096607, 0.01003438902505367, 0.012264253252843376, 0.9886116353498013, 0.9685753151276126, 0.9790468284678727, 0.29434217337188495, 0.6782667473352132, 0.01919622869816641, 0.8626090370378435, 0.015532918335309353, 0.27182607086791366, 0.528119223400518, 0.07766459167654677, 0.1009639691795108, 0.0077664591676546765, 0.3624444244156925, 0.5200289567703414, 0.11030917264825424, 0.9935613722175768, 0.5527932491055241, 0.07930367286745915, 0.05131414126717945, 0.3148822305031466, 0.09671175656535677, 0.039289151104676186, 0.20047541204693747, 0.1279415946229199, 0.02317052501045006, 0.46945498499433597, 0.042311393497343586, 0.9546739522072796, 0.3803867859181962, 0.44378458357122885, 0.16641921883921082, 0.16634994329215377, 0.31190614367278835, 0.5198435727879805, 0.9863444250142087, 0.9451186368334136, 0.03259029782184185, 0.9519021518053356, 0.044901044896478094, 0.9900908481061662, 0.9779998850351452, 0.2931564028113489, 0.34861842496484735, 0.34861842496484735, 0.9446812448134425, 0.906377126107312, 0.08964169379083306, 0.28183204570815923, 0.06093665853149388, 0.43036515087867555, 0.1790014344362633, 0.03427687042396531, 0.011425623474655103, 0.9989685717252461, 0.41497784540967264, 0.15336137765140076, 0.02706377252671778, 0.018042515017811855, 0.02706377252671778, 0.3608503003562371, 0.022026350350290276, 0.23494773706976296, 0.07342116783430093, 0.0954475181845912, 0.558000875540687, 0.014684233566860185, 0.9937294586137393, 0.9264805609124652, 0.9505733569867958, 0.7796182546499865, 0.9790468284678727, 0.8372192577495188], \"Term\": [\",_box_truck\", \",_eau_claire\", \",_new_york\", \"accord\", \"accord\", \"accuracy\", \"address\", \"address\", \"aim\", \"answer\", \"appleton\", \"approach\", \"arizona\", \"ask\", \"atlanta\", \"attitude\", \"audi\", \"aurora\", \"auto\", \"auto\", \"auto\", \"auto\", \"autocheck\", \"automobile\", \"automoxie.com\", \"autonation\", \"availability\", \"availability\", \"availability\", \"availability\", \"availability\", \"ave\", \"baltimore\", \"bar\", \"barrington_il_*\", \"base\", \"battery\", \"battle\", \"beach\", \"bedford\", \"bensenville\", \"bensenville\", \"bensenville\", \"bensenville\", \"bentley\", \"berrien\", \"berwyn\", \"berwyn_il_*\", \"bloomingdale\", \"bloomingdale\", \"bloomington\", \"bloomington\", \"bmw\", \"bmw\", \"bmw\", \"bogus\", \"box\", \"box\", \"box\", \"box_truck_,\", \"brake\", \"bridgeview\", \"broadview_il_*\", \"browse\", \"bucket\", \"bucket\", \"budget\", \"buffalo\", \"bureau\", \"burr_ridge_il\", \"bus\", \"bus\", \"c4500\", \"cab\", \"cab\", \"cab\", \"cabriolet\", \"california\", \"call\", \"call\", \"call\", \"call\", \"call\", \"car\", \"car\", \"car\", \"car\", \"car\", \"car\", \"car\", \"car_dealers_*\", \"care\", \"cargo_van_,\", \"carol\", \"carol\", \"carol\", \"carpenter_,_roofer\", \"carvana\", \"case\", \"case\", \"cat\", \"center\", \"center\", \"center\", \"center_il_*\", \"challenger\", \"challenger\", \"cherokee\", \"cherokee\", \"chevrolet\", \"chevrolet\", \"chevrolet\", \"chevrolet\", \"chicago\", \"chicago\", \"chicago\", \"chicago\", \"choice\", \"choice\", \"choice\", \"church\", \"city\", \"city\", \"city\", \"city\", \"city\", \"city_iowa_ia\", \"civic\", \"clark\", \"clark\", \"clearcoat\", \"clearshowroom\", \"co-signer\\u2714\\ufe0f\", \"color\", \"color\", \"color\", \"color\", \"color\", \"columbus_,_ohio_,_oh\", \"commander\", \"company\", \"confirm\", \"consent\", \"consumer\", \"contractor\", \"contractor\", \"control\", \"control\", \"conversion\", \"conway\", \"copy\", \"country\", \"credit\", \"credit\", \"credit\", \"credit\", \"credit\", \"credit\\u2714\\ufe0f\", \"creek\", \"creek\", \"cube\", \"customer\", \"customer\", \"customer\", \"cutaway\", \"cyl\", \"cylinder\", \"cylinder\", \"daewoo\", \"dale\", \"dale\", \"dale\", \"damage\", \"day\", \"day\", \"day\", \"deal\", \"dealership\", \"dealership\", \"dealership\", \"dealership\", \"decision\", \"delivery\", \"desire\", \"displacement\", \"dissability\", \"divorce\\u2714\\ufe0f\", \"dodge\", \"dodge\", \"dodge\", \"dodge\", \"dohc\", \"dohc\", \"door\", \"door\", \"door\", \"drive\", \"drive\", \"drive\", \"drive\", \"dundee_il_*\", \"eaton\", \"econoline\", \"effort\", \"elk_grove_village\", \"ellyn\", \"email\", \"engine\", \"engine\", \"engine\", \"engine\", \"engine\", \"engine\", \"environment\", \"eola\", \"equinox\", \"equinox\", \"equipment\", \"equipment\", \"espanol\", \"espanol\", \"espanol\", \"espanolcontact\", \"evanston\", \"evergreen_park_il\", \"everybody\", \"everything\", \"exchange\", \"existence\", \"experience\", \"explorer\", \"express\", \"express\", \"f150\", \"factory\", \"factory\", \"family\", \"family\", \"family\", \"family\", \"fedex\", \"filler\", \"finance\", \"finance\", \"finance\", \"financing\", \"financing\", \"financing\", \"financing\", \"financing\", \"financing\", \"foot\", \"ford\", \"ford\", \"ford\", \"ford\", \"ford\", \"ford\", \"forester\", \"forklift\", \"forklift\", \"frame\", \"ft_box_truck\", \"fuel\", \"fuel\", \"fuel\", \"fuller\", \"g3500\", \"gasoline\", \"gasoline\", \"gasoline\", \"gasolinetransmission_:_automaticdrivetrain\", \"gate\", \"genie\", \"get\", \"get\", \"get\", \"get\", \"get\", \"glc\", \"glen\", \"glencoe\", \"glenview\", \"gls\", \"group\", \"group\", \"grove\", \"handle\", \"harbor\", \"hartford\", \"head\", \"heat\", \"heat\", \"help\", \"help\", \"help\", \"help\", \"hickory_hills_il\", \"highway\", \"highwayengine\", \"hinsdale\", \"hinsdale\", \"history\", \"history\", \"hoffman\", \"home\", \"honda\", \"http\", \"https\", \"https\", \"hyster\", \"hyundai\", \"hyundai\", \"hyundai\", \"hyundai\", \"illinois_il_*\", \"inc\", \"inc.\", \"income\", \"income\", \"income\", \"indian_head_park_il_*\", \"indiana\", \"indianapolis\", \"indianapolis\", \"indianapolis\", \"info\", \"info\", \"info\", \"info\", \"information\", \"information\", \"information\", \"information\", \"input\", \"inventory\", \"inventory\", \"inventory\", \"inventory\", \"inventory\", \"iowa_ia_*\", \"issue\", \"jeep\", \"jeep\", \"jeep\", \"jet\", \"jetta\", \"jetta\", \"jlg\", \"job\", \"job\", \"job\", \"kansas\", \"kansas\", \"kubota\", \"lake\", \"lake\", \"lake\", \"lbs.fuel\", \"learjet\", \"lebanon\", \"leroy\", \"license\", \"license\", \"license\", \"lift\", \"lift\", \"lift\", \"lift\", \"lift\", \"liftgate\", \"liftgate\", \"lincoln\", \"linde\", \"liquidation\", \"list\", \"list\", \"loader\", \"loan\", \"loan\", \"loan\", \"loan\", \"location\", \"location\", \"location\", \"mattoon\", \"medinah\", \"melrose\", \"melrose\", \"merrionette_park_il\", \"miami\", \"miami\", \"michigan_mi_*\", \"milford\", \"mind\", \"mini-van\", \"missouri_,_mo\", \"missouri_mo_*\", \"mitsubishi\", \"mitsubishi\", \"mkc\", \"mkx\", \"mkz\", \"mkz\", \"model\", \"model\", \"model\", \"model\", \"money\", \"money\", \"money\", \"money\", \"money\", \"mount\", \"mount\", \"mount\", \"mount_greenwood_il\", \"multi\", \"murano\", \"nation\", \"navigator\", \"notice\", \"notice\", \"number\", \"number\", \"number\", \"number\", \"oak\", \"oak\", \"oak\", \"oak_lawn_il\", \"ogden\", \"ohio_oh_*\", \"orland\", \"owner\", \"owner\", \"owner\", \"ownership\", \"pacifica\", \"package\", \"package\", \"package\", \"package\", \"package\", \"palatine\", \"palatine\", \"palos_park_il\", \"park\", \"park\", \"park\", \"park\", \"park_il_*\", \"paste\", \"paste\", \"paste\", \"paw\", \"pay\", \"payment\", \"payment\", \"payment\", \"pearlcoat\", \"phone\", \"phone\", \"phone\", \"pickup\", \"pickup\", \"pickup\", \"pickup\", \"pickup\", \"pilot\", \"plainfield\", \"plainfield\", \"plainfield\", \"plainfield\", \"please\", \"please\", \"please\", \"please\", \"please\", \"please\", \"policy\", \"por\", \"power\", \"power\", \"preocupado\", \"price\", \"price\", \"price\", \"price\", \"price\", \"price\", \"price_:_$\", \"price_:_$\", \"pricing\", \"pricing\", \"pricing\", \"pricing\", \"process\", \"process\", \"program\", \"program\", \"purchase\", \"purchase\", \"purchase\", \"purchaser\", \"quality\", \"quality\", \"quality\", \"question\", \"ram\", \"ram\", \"ram\", \"rav4\", \"rav4\", \"repo\", \"reserve\", \"retailer\", \"ride\", \"ride\", \"ridge\", \"river\", \"river\", \"river\", \"riverside\", \"roadcrest\", \"rocket\", \"rogue\", \"rust\", \"safety\", \"saint\", \"sale\", \"sale\", \"sale\", \"sale\", \"sale\", \"sale\", \"savannah\", \"savannah\", \"schaumburg\", \"seat\", \"seat\", \"seat\", \"sedan\", \"sedan\", \"sedan\", \"sedan\", \"see\", \"see\", \"service\", \"service\", \"service\", \"service\", \"service\", \"service\", \"shape\", \"shape\", \"shop\", \"show\", \"show\", \"sierra\", \"signature\", \"signature\", \"skid\", \"skidsteer\", \"skokie\", \"sle\", \"someone\", \"something\", \"soul\", \"south_dakota_sd\", \"sport\", \"sport\", \"sport\", \"sport\", \"sport\", \"sportwagen\", \"spring\", \"spring\", \"springfield\", \"sprinter\", \"sprinter\", \"staff\", \"stock\", \"stock\", \"stock\", \"stock\", \"stop\", \"stop\", \"stop\", \"store\", \"stream\", \"stream\", \"stream\", \"stress\", \"student\", \"subaru\", \"suv\", \"suv\", \"suv\", \"suv\", \"system\", \"system\", \"take\", \"telephone\", \"terrain\", \"terrain\", \"texas\", \"text\", \"text\", \"text\", \"text\", \"text\", \"time\", \"time\", \"time\", \"time\", \"tinley_park_il\", \"title\", \"title\", \"title\", \"title\", \"title\", \"today\", \"today\", \"today\", \"today\", \"town\", \"town\", \"toyota\", \"toyota\", \"toyota\", \"track\", \"track\", \"tractor\", \"trade\", \"trade\", \"trade\", \"trade\", \"transmision\", \"troy\", \"truck\", \"truck\", \"truck\", \"truck\", \"truck\", \"truck\", \"type\", \"understand\", \"unemployment\", \"union\", \"union\", \"union\", \"unit\", \"utility\", \"utility\", \"utility\", \"utility\", \"utility\", \"utility\", \"valley\", \"valley\", \"valley\", \"valley_il_*\", \"van\", \"van\", \"van\", \"van\", \"vehicle\", \"vehicle\", \"vehicle\", \"vehicle\", \"vehicle\", \"vehicle\", \"vehicle\", \"verify\", \"villa\", \"villa\", \"villa\", \"vin\", \"vin\", \"vin\", \"virginia\", \"visit\", \"visit\", \"volkswagen\", \"volkswagen\", \"vvt\", \"w.a.c\", \"warranty\", \"warranty\", \"warranty\", \"waste\", \"west\", \"west\", \"wheel\", \"wheel\", \"wheel\", \"wheel\", \"wheel\", \"wheel\", \"wisconsin_wi_*\", \"wood\", \"wood\", \"wood\", \"wood\", \"wood\", \"wood\", \"work\", \"work\", \"work\", \"work\", \"work\", \"work\", \"worth_il_*\", \"www.manejehoymismo.com\", \"www.mycarcastle.com\", \"yale\", \"zeigler\", \"zero\"]}, \"R\": 30, \"lambda.step\": 0.01, \"plot.opts\": {\"xlab\": \"PC1\", \"ylab\": \"PC2\"}, \"topic.order\": [1, 5, 8, 7, 6, 4, 2, 3]};\n",
              "\n",
              "function LDAvis_load_lib(url, callback){\n",
              "  var s = document.createElement('script');\n",
              "  s.src = url;\n",
              "  s.async = true;\n",
              "  s.onreadystatechange = s.onload = callback;\n",
              "  s.onerror = function(){console.warn(\"failed to load library \" + url);};\n",
              "  document.getElementsByTagName(\"head\")[0].appendChild(s);\n",
              "}\n",
              "\n",
              "if(typeof(LDAvis) !== \"undefined\"){\n",
              "   // already loaded: just create the visualization\n",
              "   !function(LDAvis){\n",
              "       new LDAvis(\"#\" + \"ldavis_el721399355398350562009197991\", ldavis_el721399355398350562009197991_data);\n",
              "   }(LDAvis);\n",
              "}else if(typeof define === \"function\" && define.amd){\n",
              "   // require.js is available: use it to load d3/LDAvis\n",
              "   require.config({paths: {d3: \"https://d3js.org/d3.v5\"}});\n",
              "   require([\"d3\"], function(d3){\n",
              "      window.d3 = d3;\n",
              "      LDAvis_load_lib(\"https://cdn.jsdelivr.net/gh/bmabey/pyLDAvis@3.3.1/pyLDAvis/js/ldavis.v3.0.0.js\", function(){\n",
              "        new LDAvis(\"#\" + \"ldavis_el721399355398350562009197991\", ldavis_el721399355398350562009197991_data);\n",
              "      });\n",
              "    });\n",
              "}else{\n",
              "    // require.js not available: dynamically load d3 & LDAvis\n",
              "    LDAvis_load_lib(\"https://d3js.org/d3.v5.js\", function(){\n",
              "         LDAvis_load_lib(\"https://cdn.jsdelivr.net/gh/bmabey/pyLDAvis@3.3.1/pyLDAvis/js/ldavis.v3.0.0.js\", function(){\n",
              "                 new LDAvis(\"#\" + \"ldavis_el721399355398350562009197991\", ldavis_el721399355398350562009197991_data);\n",
              "            })\n",
              "         });\n",
              "}\n",
              "</script>"
            ]
          },
          "metadata": {},
          "execution_count": 16
        }
      ]
    },
    {
      "cell_type": "code",
      "source": [
        "all_topics = {}\n",
        "num_terms = 10 # Adjust number of words to represent each topic\n",
        "lambd = .31 # Adjust this accordingly based on tuning above\n",
        "for i in range(1,9): #Adjust this to reflect number of topics chosen for final LDA model\n",
        "    topic = topic_data.topic_info[topic_data.topic_info.Category == 'Topic'+str(i)].copy()\n",
        "    topic['relevance'] = topic['loglift']*(1-lambd)+topic['logprob']*lambd\n",
        "    all_topics['Topic '+str(i)] = topic.sort_values(by='relevance', ascending=False).Term[:num_terms].values"
      ],
      "metadata": {
        "id": "3CpimbCcWsho"
      },
      "execution_count": 17,
      "outputs": []
    },
    {
      "cell_type": "code",
      "source": [
        "pd.DataFrame(all_topics).T"
      ],
      "metadata": {
        "colab": {
          "base_uri": "https://localhost:8080/",
          "height": 300
        },
        "id": "ykAvpQ8mWxNV",
        "outputId": "4be37866-edc0-4890-f1f2-ec10f482e605"
      },
      "execution_count": 18,
      "outputs": [
        {
          "output_type": "execute_result",
          "data": {
            "text/plain": [
              "                     0          1           2        3               4  \\\n",
              "Topic 1  michigan_mi_*  ohio_oh_*   park_il_*  indiana  wisconsin_wi_*   \n",
              "Topic 2          grove       park       saint    ridge        palatine   \n",
              "Topic 3        carvana     toyota  volkswagen   system           group   \n",
              "Topic 4       cherokee       inc.        f150  reserve             pay   \n",
              "Topic 5           foot        box    delivery    fedex      contractor   \n",
              "Topic 6        vehicle   retailer  autonation  process        consumer   \n",
              "Topic 7        chicago     income  schaumburg    honda            copy   \n",
              "Topic 8        lincoln        mkc     battery  tractor          loader   \n",
              "\n",
              "                5              6         7           8                   9  \n",
              "Topic 1      sale  illinois_il_*     truck         car         valley_il_*  \n",
              "Topic 2  evanston        buffalo    skokie  sportwagen              center  \n",
              "Topic 3     power     experience     email      budget                head  \n",
              "Topic 4       suv         subaru  cylinder         vvt                audi  \n",
              "Topic 5  liftgate   ft_box_truck      cube   econoline  carpenter_,_roofer  \n",
              "Topic 6      show       credit✔️  approach    decision              desire  \n",
              "Topic 7      park           soul   melrose     payment              berwyn  \n",
              "Topic 8      rust          shape    daewoo       genie              hyster  "
            ],
            "text/html": [
              "\n",
              "  <div id=\"df-4bd1ac5f-14c5-4c83-b042-91f789504481\">\n",
              "    <div class=\"colab-df-container\">\n",
              "      <div>\n",
              "<style scoped>\n",
              "    .dataframe tbody tr th:only-of-type {\n",
              "        vertical-align: middle;\n",
              "    }\n",
              "\n",
              "    .dataframe tbody tr th {\n",
              "        vertical-align: top;\n",
              "    }\n",
              "\n",
              "    .dataframe thead th {\n",
              "        text-align: right;\n",
              "    }\n",
              "</style>\n",
              "<table border=\"1\" class=\"dataframe\">\n",
              "  <thead>\n",
              "    <tr style=\"text-align: right;\">\n",
              "      <th></th>\n",
              "      <th>0</th>\n",
              "      <th>1</th>\n",
              "      <th>2</th>\n",
              "      <th>3</th>\n",
              "      <th>4</th>\n",
              "      <th>5</th>\n",
              "      <th>6</th>\n",
              "      <th>7</th>\n",
              "      <th>8</th>\n",
              "      <th>9</th>\n",
              "    </tr>\n",
              "  </thead>\n",
              "  <tbody>\n",
              "    <tr>\n",
              "      <th>Topic 1</th>\n",
              "      <td>michigan_mi_*</td>\n",
              "      <td>ohio_oh_*</td>\n",
              "      <td>park_il_*</td>\n",
              "      <td>indiana</td>\n",
              "      <td>wisconsin_wi_*</td>\n",
              "      <td>sale</td>\n",
              "      <td>illinois_il_*</td>\n",
              "      <td>truck</td>\n",
              "      <td>car</td>\n",
              "      <td>valley_il_*</td>\n",
              "    </tr>\n",
              "    <tr>\n",
              "      <th>Topic 2</th>\n",
              "      <td>grove</td>\n",
              "      <td>park</td>\n",
              "      <td>saint</td>\n",
              "      <td>ridge</td>\n",
              "      <td>palatine</td>\n",
              "      <td>evanston</td>\n",
              "      <td>buffalo</td>\n",
              "      <td>skokie</td>\n",
              "      <td>sportwagen</td>\n",
              "      <td>center</td>\n",
              "    </tr>\n",
              "    <tr>\n",
              "      <th>Topic 3</th>\n",
              "      <td>carvana</td>\n",
              "      <td>toyota</td>\n",
              "      <td>volkswagen</td>\n",
              "      <td>system</td>\n",
              "      <td>group</td>\n",
              "      <td>power</td>\n",
              "      <td>experience</td>\n",
              "      <td>email</td>\n",
              "      <td>budget</td>\n",
              "      <td>head</td>\n",
              "    </tr>\n",
              "    <tr>\n",
              "      <th>Topic 4</th>\n",
              "      <td>cherokee</td>\n",
              "      <td>inc.</td>\n",
              "      <td>f150</td>\n",
              "      <td>reserve</td>\n",
              "      <td>pay</td>\n",
              "      <td>suv</td>\n",
              "      <td>subaru</td>\n",
              "      <td>cylinder</td>\n",
              "      <td>vvt</td>\n",
              "      <td>audi</td>\n",
              "    </tr>\n",
              "    <tr>\n",
              "      <th>Topic 5</th>\n",
              "      <td>foot</td>\n",
              "      <td>box</td>\n",
              "      <td>delivery</td>\n",
              "      <td>fedex</td>\n",
              "      <td>contractor</td>\n",
              "      <td>liftgate</td>\n",
              "      <td>ft_box_truck</td>\n",
              "      <td>cube</td>\n",
              "      <td>econoline</td>\n",
              "      <td>carpenter_,_roofer</td>\n",
              "    </tr>\n",
              "    <tr>\n",
              "      <th>Topic 6</th>\n",
              "      <td>vehicle</td>\n",
              "      <td>retailer</td>\n",
              "      <td>autonation</td>\n",
              "      <td>process</td>\n",
              "      <td>consumer</td>\n",
              "      <td>show</td>\n",
              "      <td>credit✔️</td>\n",
              "      <td>approach</td>\n",
              "      <td>decision</td>\n",
              "      <td>desire</td>\n",
              "    </tr>\n",
              "    <tr>\n",
              "      <th>Topic 7</th>\n",
              "      <td>chicago</td>\n",
              "      <td>income</td>\n",
              "      <td>schaumburg</td>\n",
              "      <td>honda</td>\n",
              "      <td>copy</td>\n",
              "      <td>park</td>\n",
              "      <td>soul</td>\n",
              "      <td>melrose</td>\n",
              "      <td>payment</td>\n",
              "      <td>berwyn</td>\n",
              "    </tr>\n",
              "    <tr>\n",
              "      <th>Topic 8</th>\n",
              "      <td>lincoln</td>\n",
              "      <td>mkc</td>\n",
              "      <td>battery</td>\n",
              "      <td>tractor</td>\n",
              "      <td>loader</td>\n",
              "      <td>rust</td>\n",
              "      <td>shape</td>\n",
              "      <td>daewoo</td>\n",
              "      <td>genie</td>\n",
              "      <td>hyster</td>\n",
              "    </tr>\n",
              "  </tbody>\n",
              "</table>\n",
              "</div>\n",
              "      <button class=\"colab-df-convert\" onclick=\"convertToInteractive('df-4bd1ac5f-14c5-4c83-b042-91f789504481')\"\n",
              "              title=\"Convert this dataframe to an interactive table.\"\n",
              "              style=\"display:none;\">\n",
              "        \n",
              "  <svg xmlns=\"http://www.w3.org/2000/svg\" height=\"24px\"viewBox=\"0 0 24 24\"\n",
              "       width=\"24px\">\n",
              "    <path d=\"M0 0h24v24H0V0z\" fill=\"none\"/>\n",
              "    <path d=\"M18.56 5.44l.94 2.06.94-2.06 2.06-.94-2.06-.94-.94-2.06-.94 2.06-2.06.94zm-11 1L8.5 8.5l.94-2.06 2.06-.94-2.06-.94L8.5 2.5l-.94 2.06-2.06.94zm10 10l.94 2.06.94-2.06 2.06-.94-2.06-.94-.94-2.06-.94 2.06-2.06.94z\"/><path d=\"M17.41 7.96l-1.37-1.37c-.4-.4-.92-.59-1.43-.59-.52 0-1.04.2-1.43.59L10.3 9.45l-7.72 7.72c-.78.78-.78 2.05 0 2.83L4 21.41c.39.39.9.59 1.41.59.51 0 1.02-.2 1.41-.59l7.78-7.78 2.81-2.81c.8-.78.8-2.07 0-2.86zM5.41 20L4 18.59l7.72-7.72 1.47 1.35L5.41 20z\"/>\n",
              "  </svg>\n",
              "      </button>\n",
              "      \n",
              "  <style>\n",
              "    .colab-df-container {\n",
              "      display:flex;\n",
              "      flex-wrap:wrap;\n",
              "      gap: 12px;\n",
              "    }\n",
              "\n",
              "    .colab-df-convert {\n",
              "      background-color: #E8F0FE;\n",
              "      border: none;\n",
              "      border-radius: 50%;\n",
              "      cursor: pointer;\n",
              "      display: none;\n",
              "      fill: #1967D2;\n",
              "      height: 32px;\n",
              "      padding: 0 0 0 0;\n",
              "      width: 32px;\n",
              "    }\n",
              "\n",
              "    .colab-df-convert:hover {\n",
              "      background-color: #E2EBFA;\n",
              "      box-shadow: 0px 1px 2px rgba(60, 64, 67, 0.3), 0px 1px 3px 1px rgba(60, 64, 67, 0.15);\n",
              "      fill: #174EA6;\n",
              "    }\n",
              "\n",
              "    [theme=dark] .colab-df-convert {\n",
              "      background-color: #3B4455;\n",
              "      fill: #D2E3FC;\n",
              "    }\n",
              "\n",
              "    [theme=dark] .colab-df-convert:hover {\n",
              "      background-color: #434B5C;\n",
              "      box-shadow: 0px 1px 3px 1px rgba(0, 0, 0, 0.15);\n",
              "      filter: drop-shadow(0px 1px 2px rgba(0, 0, 0, 0.3));\n",
              "      fill: #FFFFFF;\n",
              "    }\n",
              "  </style>\n",
              "\n",
              "      <script>\n",
              "        const buttonEl =\n",
              "          document.querySelector('#df-4bd1ac5f-14c5-4c83-b042-91f789504481 button.colab-df-convert');\n",
              "        buttonEl.style.display =\n",
              "          google.colab.kernel.accessAllowed ? 'block' : 'none';\n",
              "\n",
              "        async function convertToInteractive(key) {\n",
              "          const element = document.querySelector('#df-4bd1ac5f-14c5-4c83-b042-91f789504481');\n",
              "          const dataTable =\n",
              "            await google.colab.kernel.invokeFunction('convertToInteractive',\n",
              "                                                     [key], {});\n",
              "          if (!dataTable) return;\n",
              "\n",
              "          const docLinkHtml = 'Like what you see? Visit the ' +\n",
              "            '<a target=\"_blank\" href=https://colab.research.google.com/notebooks/data_table.ipynb>data table notebook</a>'\n",
              "            + ' to learn more about interactive tables.';\n",
              "          element.innerHTML = '';\n",
              "          dataTable['output_type'] = 'display_data';\n",
              "          await google.colab.output.renderOutput(dataTable, element);\n",
              "          const docLink = document.createElement('div');\n",
              "          docLink.innerHTML = docLinkHtml;\n",
              "          element.appendChild(docLink);\n",
              "        }\n",
              "      </script>\n",
              "    </div>\n",
              "  </div>\n",
              "  "
            ]
          },
          "metadata": {},
          "execution_count": 18
        }
      ]
    }
  ]
}